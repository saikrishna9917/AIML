{
  "nbformat": 4,
  "nbformat_minor": 0,
  "metadata": {
    "kernelspec": {
      "display_name": "Python 3",
      "language": "python",
      "name": "python3"
    },
    "language_info": {
      "codemirror_mode": {
        "name": "ipython",
        "version": 3
      },
      "file_extension": ".py",
      "mimetype": "text/x-python",
      "name": "python",
      "nbconvert_exporter": "python",
      "pygments_lexer": "ipython3",
      "version": "3.7.6"
    },
    "colab": {
      "name": "Assignment-16(15-06-2020).ipynb",
      "provenance": [],
      "include_colab_link": true
    }
  },
  "cells": [
    {
      "cell_type": "markdown",
      "metadata": {
        "id": "view-in-github",
        "colab_type": "text"
      },
      "source": [
        "<a href=\"https://colab.research.google.com/github/saikrishna9917/AIML/blob/master/Assignment_16(15_06_2020).ipynb\" target=\"_parent\"><img src=\"https://colab.research.google.com/assets/colab-badge.svg\" alt=\"Open In Colab\"/></a>"
      ]
    },
    {
      "cell_type": "code",
      "metadata": {
        "id": "0COWo4csbhnN",
        "colab_type": "code",
        "colab": {}
      },
      "source": [
        "import pandas as pd\n",
        "import numpy as np\n",
        "import matplotlib.pyplot as plt\n",
        "import sklearn"
      ],
      "execution_count": 0,
      "outputs": []
    },
    {
      "cell_type": "markdown",
      "metadata": {
        "id": "AYNsZ5YbbhnV",
        "colab_type": "text"
      },
      "source": [
        "1. What is the parameter we should use to mention the first row in the data set are not columns what is the value we should send for that parameter"
      ]
    },
    {
      "cell_type": "code",
      "metadata": {
        "id": "MVbwpLsJbhnW",
        "colab_type": "code",
        "colab": {},
        "outputId": "5bb60bbc-2624-46bb-9a44-ff5f9eac3a1a"
      },
      "source": [
        "data = pd.read_table(\"summer.csv\")\n",
        "\n",
        "data"
      ],
      "execution_count": 0,
      "outputs": [
        {
          "output_type": "execute_result",
          "data": {
            "text/html": [
              "<div>\n",
              "<style scoped>\n",
              "    .dataframe tbody tr th:only-of-type {\n",
              "        vertical-align: middle;\n",
              "    }\n",
              "\n",
              "    .dataframe tbody tr th {\n",
              "        vertical-align: top;\n",
              "    }\n",
              "\n",
              "    .dataframe thead th {\n",
              "        text-align: right;\n",
              "    }\n",
              "</style>\n",
              "<table border=\"1\" class=\"dataframe\">\n",
              "  <thead>\n",
              "    <tr style=\"text-align: right;\">\n",
              "      <th></th>\n",
              "      <th>2018-01-01 00:01:01;read;country_7;2458151261;SEO;North America</th>\n",
              "    </tr>\n",
              "  </thead>\n",
              "  <tbody>\n",
              "    <tr>\n",
              "      <th>0</th>\n",
              "      <td>2018-01-01 00:03:20;read;country_7;2458151262;...</td>\n",
              "    </tr>\n",
              "    <tr>\n",
              "      <th>1</th>\n",
              "      <td>2018-01-01 00:04:01;read;country_7;2458151263;...</td>\n",
              "    </tr>\n",
              "    <tr>\n",
              "      <th>2</th>\n",
              "      <td>2018-01-01 00:04:02;read;country_7;2458151264;...</td>\n",
              "    </tr>\n",
              "    <tr>\n",
              "      <th>3</th>\n",
              "      <td>2018-01-01 00:05:03;read;country_8;2458151265;...</td>\n",
              "    </tr>\n",
              "    <tr>\n",
              "      <th>4</th>\n",
              "      <td>2018-01-01 00:05:42;read;country_6;2458151266;...</td>\n",
              "    </tr>\n",
              "    <tr>\n",
              "      <th>...</th>\n",
              "      <td>...</td>\n",
              "    </tr>\n",
              "    <tr>\n",
              "      <th>1789</th>\n",
              "      <td>2018-01-01 23:57:14;read;country_2;2458153051;...</td>\n",
              "    </tr>\n",
              "    <tr>\n",
              "      <th>1790</th>\n",
              "      <td>2018-01-01 23:58:33;read;country_8;2458153052;...</td>\n",
              "    </tr>\n",
              "    <tr>\n",
              "      <th>1791</th>\n",
              "      <td>2018-01-01 23:59:36;read;country_6;2458153053;...</td>\n",
              "    </tr>\n",
              "    <tr>\n",
              "      <th>1792</th>\n",
              "      <td>2018-01-01 23:59:36;read;country_7;2458153054;...</td>\n",
              "    </tr>\n",
              "    <tr>\n",
              "      <th>1793</th>\n",
              "      <td>2018-01-01 23:59:38;read;country_5;2458153055;...</td>\n",
              "    </tr>\n",
              "  </tbody>\n",
              "</table>\n",
              "<p>1794 rows × 1 columns</p>\n",
              "</div>"
            ],
            "text/plain": [
              "     2018-01-01 00:01:01;read;country_7;2458151261;SEO;North America\n",
              "0     2018-01-01 00:03:20;read;country_7;2458151262;...             \n",
              "1     2018-01-01 00:04:01;read;country_7;2458151263;...             \n",
              "2     2018-01-01 00:04:02;read;country_7;2458151264;...             \n",
              "3     2018-01-01 00:05:03;read;country_8;2458151265;...             \n",
              "4     2018-01-01 00:05:42;read;country_6;2458151266;...             \n",
              "...                                                 ...             \n",
              "1789  2018-01-01 23:57:14;read;country_2;2458153051;...             \n",
              "1790  2018-01-01 23:58:33;read;country_8;2458153052;...             \n",
              "1791  2018-01-01 23:59:36;read;country_6;2458153053;...             \n",
              "1792  2018-01-01 23:59:36;read;country_7;2458153054;...             \n",
              "1793  2018-01-01 23:59:38;read;country_5;2458153055;...             \n",
              "\n",
              "[1794 rows x 1 columns]"
            ]
          },
          "metadata": {
            "tags": []
          },
          "execution_count": 2
        }
      ]
    },
    {
      "cell_type": "code",
      "metadata": {
        "id": "ArZO4aXobhnj",
        "colab_type": "code",
        "colab": {},
        "outputId": "b33cc1ce-4a19-4928-ec9f-e57808f5d5ac"
      },
      "source": [
        "data = pd.read_table(\"summer.csv\",sep=\";\")\n",
        "data"
      ],
      "execution_count": 0,
      "outputs": [
        {
          "output_type": "execute_result",
          "data": {
            "text/html": [
              "<div>\n",
              "<style scoped>\n",
              "    .dataframe tbody tr th:only-of-type {\n",
              "        vertical-align: middle;\n",
              "    }\n",
              "\n",
              "    .dataframe tbody tr th {\n",
              "        vertical-align: top;\n",
              "    }\n",
              "\n",
              "    .dataframe thead th {\n",
              "        text-align: right;\n",
              "    }\n",
              "</style>\n",
              "<table border=\"1\" class=\"dataframe\">\n",
              "  <thead>\n",
              "    <tr style=\"text-align: right;\">\n",
              "      <th></th>\n",
              "      <th>2018-01-01 00:01:01</th>\n",
              "      <th>read</th>\n",
              "      <th>country_7</th>\n",
              "      <th>2458151261</th>\n",
              "      <th>SEO</th>\n",
              "      <th>North America</th>\n",
              "    </tr>\n",
              "  </thead>\n",
              "  <tbody>\n",
              "    <tr>\n",
              "      <th>0</th>\n",
              "      <td>2018-01-01 00:03:20</td>\n",
              "      <td>read</td>\n",
              "      <td>country_7</td>\n",
              "      <td>2458151262</td>\n",
              "      <td>SEO</td>\n",
              "      <td>South America</td>\n",
              "    </tr>\n",
              "    <tr>\n",
              "      <th>1</th>\n",
              "      <td>2018-01-01 00:04:01</td>\n",
              "      <td>read</td>\n",
              "      <td>country_7</td>\n",
              "      <td>2458151263</td>\n",
              "      <td>AdWords</td>\n",
              "      <td>Africa</td>\n",
              "    </tr>\n",
              "    <tr>\n",
              "      <th>2</th>\n",
              "      <td>2018-01-01 00:04:02</td>\n",
              "      <td>read</td>\n",
              "      <td>country_7</td>\n",
              "      <td>2458151264</td>\n",
              "      <td>AdWords</td>\n",
              "      <td>Europe</td>\n",
              "    </tr>\n",
              "    <tr>\n",
              "      <th>3</th>\n",
              "      <td>2018-01-01 00:05:03</td>\n",
              "      <td>read</td>\n",
              "      <td>country_8</td>\n",
              "      <td>2458151265</td>\n",
              "      <td>Reddit</td>\n",
              "      <td>North America</td>\n",
              "    </tr>\n",
              "    <tr>\n",
              "      <th>4</th>\n",
              "      <td>2018-01-01 00:05:42</td>\n",
              "      <td>read</td>\n",
              "      <td>country_6</td>\n",
              "      <td>2458151266</td>\n",
              "      <td>Reddit</td>\n",
              "      <td>North America</td>\n",
              "    </tr>\n",
              "    <tr>\n",
              "      <th>...</th>\n",
              "      <td>...</td>\n",
              "      <td>...</td>\n",
              "      <td>...</td>\n",
              "      <td>...</td>\n",
              "      <td>...</td>\n",
              "      <td>...</td>\n",
              "    </tr>\n",
              "    <tr>\n",
              "      <th>1789</th>\n",
              "      <td>2018-01-01 23:57:14</td>\n",
              "      <td>read</td>\n",
              "      <td>country_2</td>\n",
              "      <td>2458153051</td>\n",
              "      <td>AdWords</td>\n",
              "      <td>North America</td>\n",
              "    </tr>\n",
              "    <tr>\n",
              "      <th>1790</th>\n",
              "      <td>2018-01-01 23:58:33</td>\n",
              "      <td>read</td>\n",
              "      <td>country_8</td>\n",
              "      <td>2458153052</td>\n",
              "      <td>SEO</td>\n",
              "      <td>Asia</td>\n",
              "    </tr>\n",
              "    <tr>\n",
              "      <th>1791</th>\n",
              "      <td>2018-01-01 23:59:36</td>\n",
              "      <td>read</td>\n",
              "      <td>country_6</td>\n",
              "      <td>2458153053</td>\n",
              "      <td>Reddit</td>\n",
              "      <td>Asia</td>\n",
              "    </tr>\n",
              "    <tr>\n",
              "      <th>1792</th>\n",
              "      <td>2018-01-01 23:59:36</td>\n",
              "      <td>read</td>\n",
              "      <td>country_7</td>\n",
              "      <td>2458153054</td>\n",
              "      <td>AdWords</td>\n",
              "      <td>Europe</td>\n",
              "    </tr>\n",
              "    <tr>\n",
              "      <th>1793</th>\n",
              "      <td>2018-01-01 23:59:38</td>\n",
              "      <td>read</td>\n",
              "      <td>country_5</td>\n",
              "      <td>2458153055</td>\n",
              "      <td>Reddit</td>\n",
              "      <td>Asia</td>\n",
              "    </tr>\n",
              "  </tbody>\n",
              "</table>\n",
              "<p>1794 rows × 6 columns</p>\n",
              "</div>"
            ],
            "text/plain": [
              "      2018-01-01 00:01:01  read  country_7  2458151261      SEO  North America\n",
              "0     2018-01-01 00:03:20  read  country_7  2458151262      SEO  South America\n",
              "1     2018-01-01 00:04:01  read  country_7  2458151263  AdWords         Africa\n",
              "2     2018-01-01 00:04:02  read  country_7  2458151264  AdWords         Europe\n",
              "3     2018-01-01 00:05:03  read  country_8  2458151265   Reddit  North America\n",
              "4     2018-01-01 00:05:42  read  country_6  2458151266   Reddit  North America\n",
              "...                   ...   ...        ...         ...      ...            ...\n",
              "1789  2018-01-01 23:57:14  read  country_2  2458153051  AdWords  North America\n",
              "1790  2018-01-01 23:58:33  read  country_8  2458153052      SEO           Asia\n",
              "1791  2018-01-01 23:59:36  read  country_6  2458153053   Reddit           Asia\n",
              "1792  2018-01-01 23:59:36  read  country_7  2458153054  AdWords         Europe\n",
              "1793  2018-01-01 23:59:38  read  country_5  2458153055   Reddit           Asia\n",
              "\n",
              "[1794 rows x 6 columns]"
            ]
          },
          "metadata": {
            "tags": []
          },
          "execution_count": 3
        }
      ]
    },
    {
      "cell_type": "code",
      "metadata": {
        "id": "aEs0yOCgbhns",
        "colab_type": "code",
        "colab": {},
        "outputId": "a0087f73-21bb-4ac4-9ba1-b5d737a14950"
      },
      "source": [
        "data = pd.read_table(\"summer.csv\",sep=\";\",header=None)\n",
        "data"
      ],
      "execution_count": 0,
      "outputs": [
        {
          "output_type": "execute_result",
          "data": {
            "text/html": [
              "<div>\n",
              "<style scoped>\n",
              "    .dataframe tbody tr th:only-of-type {\n",
              "        vertical-align: middle;\n",
              "    }\n",
              "\n",
              "    .dataframe tbody tr th {\n",
              "        vertical-align: top;\n",
              "    }\n",
              "\n",
              "    .dataframe thead th {\n",
              "        text-align: right;\n",
              "    }\n",
              "</style>\n",
              "<table border=\"1\" class=\"dataframe\">\n",
              "  <thead>\n",
              "    <tr style=\"text-align: right;\">\n",
              "      <th></th>\n",
              "      <th>0</th>\n",
              "      <th>1</th>\n",
              "      <th>2</th>\n",
              "      <th>3</th>\n",
              "      <th>4</th>\n",
              "      <th>5</th>\n",
              "    </tr>\n",
              "  </thead>\n",
              "  <tbody>\n",
              "    <tr>\n",
              "      <th>0</th>\n",
              "      <td>2018-01-01 00:01:01</td>\n",
              "      <td>read</td>\n",
              "      <td>country_7</td>\n",
              "      <td>2458151261</td>\n",
              "      <td>SEO</td>\n",
              "      <td>North America</td>\n",
              "    </tr>\n",
              "    <tr>\n",
              "      <th>1</th>\n",
              "      <td>2018-01-01 00:03:20</td>\n",
              "      <td>read</td>\n",
              "      <td>country_7</td>\n",
              "      <td>2458151262</td>\n",
              "      <td>SEO</td>\n",
              "      <td>South America</td>\n",
              "    </tr>\n",
              "    <tr>\n",
              "      <th>2</th>\n",
              "      <td>2018-01-01 00:04:01</td>\n",
              "      <td>read</td>\n",
              "      <td>country_7</td>\n",
              "      <td>2458151263</td>\n",
              "      <td>AdWords</td>\n",
              "      <td>Africa</td>\n",
              "    </tr>\n",
              "    <tr>\n",
              "      <th>3</th>\n",
              "      <td>2018-01-01 00:04:02</td>\n",
              "      <td>read</td>\n",
              "      <td>country_7</td>\n",
              "      <td>2458151264</td>\n",
              "      <td>AdWords</td>\n",
              "      <td>Europe</td>\n",
              "    </tr>\n",
              "    <tr>\n",
              "      <th>4</th>\n",
              "      <td>2018-01-01 00:05:03</td>\n",
              "      <td>read</td>\n",
              "      <td>country_8</td>\n",
              "      <td>2458151265</td>\n",
              "      <td>Reddit</td>\n",
              "      <td>North America</td>\n",
              "    </tr>\n",
              "    <tr>\n",
              "      <th>...</th>\n",
              "      <td>...</td>\n",
              "      <td>...</td>\n",
              "      <td>...</td>\n",
              "      <td>...</td>\n",
              "      <td>...</td>\n",
              "      <td>...</td>\n",
              "    </tr>\n",
              "    <tr>\n",
              "      <th>1790</th>\n",
              "      <td>2018-01-01 23:57:14</td>\n",
              "      <td>read</td>\n",
              "      <td>country_2</td>\n",
              "      <td>2458153051</td>\n",
              "      <td>AdWords</td>\n",
              "      <td>North America</td>\n",
              "    </tr>\n",
              "    <tr>\n",
              "      <th>1791</th>\n",
              "      <td>2018-01-01 23:58:33</td>\n",
              "      <td>read</td>\n",
              "      <td>country_8</td>\n",
              "      <td>2458153052</td>\n",
              "      <td>SEO</td>\n",
              "      <td>Asia</td>\n",
              "    </tr>\n",
              "    <tr>\n",
              "      <th>1792</th>\n",
              "      <td>2018-01-01 23:59:36</td>\n",
              "      <td>read</td>\n",
              "      <td>country_6</td>\n",
              "      <td>2458153053</td>\n",
              "      <td>Reddit</td>\n",
              "      <td>Asia</td>\n",
              "    </tr>\n",
              "    <tr>\n",
              "      <th>1793</th>\n",
              "      <td>2018-01-01 23:59:36</td>\n",
              "      <td>read</td>\n",
              "      <td>country_7</td>\n",
              "      <td>2458153054</td>\n",
              "      <td>AdWords</td>\n",
              "      <td>Europe</td>\n",
              "    </tr>\n",
              "    <tr>\n",
              "      <th>1794</th>\n",
              "      <td>2018-01-01 23:59:38</td>\n",
              "      <td>read</td>\n",
              "      <td>country_5</td>\n",
              "      <td>2458153055</td>\n",
              "      <td>Reddit</td>\n",
              "      <td>Asia</td>\n",
              "    </tr>\n",
              "  </tbody>\n",
              "</table>\n",
              "<p>1795 rows × 6 columns</p>\n",
              "</div>"
            ],
            "text/plain": [
              "                        0     1          2           3        4              5\n",
              "0     2018-01-01 00:01:01  read  country_7  2458151261      SEO  North America\n",
              "1     2018-01-01 00:03:20  read  country_7  2458151262      SEO  South America\n",
              "2     2018-01-01 00:04:01  read  country_7  2458151263  AdWords         Africa\n",
              "3     2018-01-01 00:04:02  read  country_7  2458151264  AdWords         Europe\n",
              "4     2018-01-01 00:05:03  read  country_8  2458151265   Reddit  North America\n",
              "...                   ...   ...        ...         ...      ...            ...\n",
              "1790  2018-01-01 23:57:14  read  country_2  2458153051  AdWords  North America\n",
              "1791  2018-01-01 23:58:33  read  country_8  2458153052      SEO           Asia\n",
              "1792  2018-01-01 23:59:36  read  country_6  2458153053   Reddit           Asia\n",
              "1793  2018-01-01 23:59:36  read  country_7  2458153054  AdWords         Europe\n",
              "1794  2018-01-01 23:59:38  read  country_5  2458153055   Reddit           Asia\n",
              "\n",
              "[1795 rows x 6 columns]"
            ]
          },
          "metadata": {
            "tags": []
          },
          "execution_count": 4
        }
      ]
    },
    {
      "cell_type": "markdown",
      "metadata": {
        "id": "dG5fN-GQbhn3",
        "colab_type": "text"
      },
      "source": [
        "2. Read the data in the data.csv file in the proper format\n",
        "    Use ['my_datetime', 'event', 'country_code', 'user_id', 'source', 'country '] as columns\n",
        "  - check how many rows and columns are there\n",
        "  - what are the columns names\n",
        "  - what are are the row labels\n",
        "  - Write down your observation\n",
        "    - what type of data you have \n",
        "    - In the data if you have observed are there any missing values(NaN)\n",
        "  - print the datatype of each column\n",
        "  - For each data type how many columns are there\n",
        "  - Using describe function observe the different measures for numerical and categorical columns\n",
        "  - Use the info function to get the detailed info of the dataframe\n",
        "  -  Check for the duplicate values in all the columns\n",
        "  -  Replace the value “South America” from country column with NaN and fill with mode of   the column\n",
        "  - Check the count of categories being repeated in the source column.\n"
      ]
    },
    {
      "cell_type": "code",
      "metadata": {
        "id": "4fQs4-i-bhn6",
        "colab_type": "code",
        "colab": {},
        "outputId": "3ea3f4fd-c69e-45c5-8d36-62c5c40eb709"
      },
      "source": [
        "#Use ['my_datetime', 'event', 'country_code', 'user_id', 'source', 'country '] as columns\n",
        "data = pd.read_table(\"summer.csv\",sep=\";\",header=None,names=['my_datetime', 'event', 'country_code', 'user_id', 'source', 'country'])\n",
        "data"
      ],
      "execution_count": 0,
      "outputs": [
        {
          "output_type": "execute_result",
          "data": {
            "text/html": [
              "<div>\n",
              "<style scoped>\n",
              "    .dataframe tbody tr th:only-of-type {\n",
              "        vertical-align: middle;\n",
              "    }\n",
              "\n",
              "    .dataframe tbody tr th {\n",
              "        vertical-align: top;\n",
              "    }\n",
              "\n",
              "    .dataframe thead th {\n",
              "        text-align: right;\n",
              "    }\n",
              "</style>\n",
              "<table border=\"1\" class=\"dataframe\">\n",
              "  <thead>\n",
              "    <tr style=\"text-align: right;\">\n",
              "      <th></th>\n",
              "      <th>my_datetime</th>\n",
              "      <th>event</th>\n",
              "      <th>country_code</th>\n",
              "      <th>user_id</th>\n",
              "      <th>source</th>\n",
              "      <th>country</th>\n",
              "    </tr>\n",
              "  </thead>\n",
              "  <tbody>\n",
              "    <tr>\n",
              "      <th>0</th>\n",
              "      <td>2018-01-01 00:01:01</td>\n",
              "      <td>read</td>\n",
              "      <td>country_7</td>\n",
              "      <td>2458151261</td>\n",
              "      <td>SEO</td>\n",
              "      <td>North America</td>\n",
              "    </tr>\n",
              "    <tr>\n",
              "      <th>1</th>\n",
              "      <td>2018-01-01 00:03:20</td>\n",
              "      <td>read</td>\n",
              "      <td>country_7</td>\n",
              "      <td>2458151262</td>\n",
              "      <td>SEO</td>\n",
              "      <td>South America</td>\n",
              "    </tr>\n",
              "    <tr>\n",
              "      <th>2</th>\n",
              "      <td>2018-01-01 00:04:01</td>\n",
              "      <td>read</td>\n",
              "      <td>country_7</td>\n",
              "      <td>2458151263</td>\n",
              "      <td>AdWords</td>\n",
              "      <td>Africa</td>\n",
              "    </tr>\n",
              "    <tr>\n",
              "      <th>3</th>\n",
              "      <td>2018-01-01 00:04:02</td>\n",
              "      <td>read</td>\n",
              "      <td>country_7</td>\n",
              "      <td>2458151264</td>\n",
              "      <td>AdWords</td>\n",
              "      <td>Europe</td>\n",
              "    </tr>\n",
              "    <tr>\n",
              "      <th>4</th>\n",
              "      <td>2018-01-01 00:05:03</td>\n",
              "      <td>read</td>\n",
              "      <td>country_8</td>\n",
              "      <td>2458151265</td>\n",
              "      <td>Reddit</td>\n",
              "      <td>North America</td>\n",
              "    </tr>\n",
              "    <tr>\n",
              "      <th>...</th>\n",
              "      <td>...</td>\n",
              "      <td>...</td>\n",
              "      <td>...</td>\n",
              "      <td>...</td>\n",
              "      <td>...</td>\n",
              "      <td>...</td>\n",
              "    </tr>\n",
              "    <tr>\n",
              "      <th>1790</th>\n",
              "      <td>2018-01-01 23:57:14</td>\n",
              "      <td>read</td>\n",
              "      <td>country_2</td>\n",
              "      <td>2458153051</td>\n",
              "      <td>AdWords</td>\n",
              "      <td>North America</td>\n",
              "    </tr>\n",
              "    <tr>\n",
              "      <th>1791</th>\n",
              "      <td>2018-01-01 23:58:33</td>\n",
              "      <td>read</td>\n",
              "      <td>country_8</td>\n",
              "      <td>2458153052</td>\n",
              "      <td>SEO</td>\n",
              "      <td>Asia</td>\n",
              "    </tr>\n",
              "    <tr>\n",
              "      <th>1792</th>\n",
              "      <td>2018-01-01 23:59:36</td>\n",
              "      <td>read</td>\n",
              "      <td>country_6</td>\n",
              "      <td>2458153053</td>\n",
              "      <td>Reddit</td>\n",
              "      <td>Asia</td>\n",
              "    </tr>\n",
              "    <tr>\n",
              "      <th>1793</th>\n",
              "      <td>2018-01-01 23:59:36</td>\n",
              "      <td>read</td>\n",
              "      <td>country_7</td>\n",
              "      <td>2458153054</td>\n",
              "      <td>AdWords</td>\n",
              "      <td>Europe</td>\n",
              "    </tr>\n",
              "    <tr>\n",
              "      <th>1794</th>\n",
              "      <td>2018-01-01 23:59:38</td>\n",
              "      <td>read</td>\n",
              "      <td>country_5</td>\n",
              "      <td>2458153055</td>\n",
              "      <td>Reddit</td>\n",
              "      <td>Asia</td>\n",
              "    </tr>\n",
              "  </tbody>\n",
              "</table>\n",
              "<p>1795 rows × 6 columns</p>\n",
              "</div>"
            ],
            "text/plain": [
              "              my_datetime event country_code     user_id   source  \\\n",
              "0     2018-01-01 00:01:01  read    country_7  2458151261      SEO   \n",
              "1     2018-01-01 00:03:20  read    country_7  2458151262      SEO   \n",
              "2     2018-01-01 00:04:01  read    country_7  2458151263  AdWords   \n",
              "3     2018-01-01 00:04:02  read    country_7  2458151264  AdWords   \n",
              "4     2018-01-01 00:05:03  read    country_8  2458151265   Reddit   \n",
              "...                   ...   ...          ...         ...      ...   \n",
              "1790  2018-01-01 23:57:14  read    country_2  2458153051  AdWords   \n",
              "1791  2018-01-01 23:58:33  read    country_8  2458153052      SEO   \n",
              "1792  2018-01-01 23:59:36  read    country_6  2458153053   Reddit   \n",
              "1793  2018-01-01 23:59:36  read    country_7  2458153054  AdWords   \n",
              "1794  2018-01-01 23:59:38  read    country_5  2458153055   Reddit   \n",
              "\n",
              "            country  \n",
              "0     North America  \n",
              "1     South America  \n",
              "2            Africa  \n",
              "3            Europe  \n",
              "4     North America  \n",
              "...             ...  \n",
              "1790  North America  \n",
              "1791           Asia  \n",
              "1792           Asia  \n",
              "1793         Europe  \n",
              "1794           Asia  \n",
              "\n",
              "[1795 rows x 6 columns]"
            ]
          },
          "metadata": {
            "tags": []
          },
          "execution_count": 5
        }
      ]
    },
    {
      "cell_type": "code",
      "metadata": {
        "id": "Q_r7NhRGbhoF",
        "colab_type": "code",
        "colab": {},
        "outputId": "355a29ab-866c-4ade-faa7-acd399d43856"
      },
      "source": [
        "#check how many rows and columns are there\n",
        "print(\"No of rows:\",data.shape[0])\n",
        "print(\"No of columns:\",data.shape[1])"
      ],
      "execution_count": 0,
      "outputs": [
        {
          "output_type": "stream",
          "text": [
            "No of rows: 1795\n",
            "No of columns: 6\n"
          ],
          "name": "stdout"
        }
      ]
    },
    {
      "cell_type": "code",
      "metadata": {
        "id": "cis50ZRBbhoS",
        "colab_type": "code",
        "colab": {},
        "outputId": "27917659-9c3e-4f73-aa29-be395fcc0d5b"
      },
      "source": [
        "#what are are the row labels\n",
        "print(\"row labels\")\n",
        "print(data.index.values)"
      ],
      "execution_count": 0,
      "outputs": [
        {
          "output_type": "stream",
          "text": [
            "row labels\n",
            "[   0    1    2 ... 1792 1793 1794]\n"
          ],
          "name": "stdout"
        }
      ]
    },
    {
      "cell_type": "code",
      "metadata": {
        "id": "Nyah6Usobhoa",
        "colab_type": "code",
        "colab": {},
        "outputId": "73b95dfe-51b1-42eb-924e-2ca678769b25"
      },
      "source": [
        "print(\"column labels\")\n",
        "print(data.columns.values)"
      ],
      "execution_count": 0,
      "outputs": [
        {
          "output_type": "stream",
          "text": [
            "column labels\n",
            "['my_datetime' 'event' 'country_code' 'user_id' 'source' 'country']\n"
          ],
          "name": "stdout"
        }
      ]
    },
    {
      "cell_type": "code",
      "metadata": {
        "id": "SgMIZTtGbhoj",
        "colab_type": "code",
        "colab": {},
        "outputId": "e74bc576-991d-4087-8abd-9eaf1d3793ce"
      },
      "source": [
        "##- Write down your observation\n",
        "#- what type of data you have \n",
        "#   - In the data if you have observed are there any missing values(NaN)\n",
        "data.dtypes"
      ],
      "execution_count": 0,
      "outputs": [
        {
          "output_type": "execute_result",
          "data": {
            "text/plain": [
              "my_datetime     object\n",
              "event           object\n",
              "country_code    object\n",
              "user_id          int64\n",
              "source          object\n",
              "country         object\n",
              "dtype: object"
            ]
          },
          "metadata": {
            "tags": []
          },
          "execution_count": 9
        }
      ]
    },
    {
      "cell_type": "code",
      "metadata": {
        "id": "gwd-cnhIbhoq",
        "colab_type": "code",
        "colab": {},
        "outputId": "27ecf2de-c4cc-461e-d7fe-53009b7b2ff3"
      },
      "source": [
        "data.isnull().sum()"
      ],
      "execution_count": 0,
      "outputs": [
        {
          "output_type": "execute_result",
          "data": {
            "text/plain": [
              "my_datetime     0\n",
              "event           0\n",
              "country_code    0\n",
              "user_id         0\n",
              "source          0\n",
              "country         0\n",
              "dtype: int64"
            ]
          },
          "metadata": {
            "tags": []
          },
          "execution_count": 10
        }
      ]
    },
    {
      "cell_type": "code",
      "metadata": {
        "id": "u89nzBAebho6",
        "colab_type": "code",
        "colab": {},
        "outputId": "af1a4297-30da-4b7e-e248-053415fabc91"
      },
      "source": [
        "#print the datatype of each column\n",
        "data['my_datetime'].dtypes"
      ],
      "execution_count": 0,
      "outputs": [
        {
          "output_type": "execute_result",
          "data": {
            "text/plain": [
              "dtype('O')"
            ]
          },
          "metadata": {
            "tags": []
          },
          "execution_count": 11
        }
      ]
    },
    {
      "cell_type": "code",
      "metadata": {
        "id": "pEkddcdTbhpE",
        "colab_type": "code",
        "colab": {},
        "outputId": "0d347ab5-b582-46d7-8680-e28a38ab6e4f"
      },
      "source": [
        "data['event'].dtypes"
      ],
      "execution_count": 0,
      "outputs": [
        {
          "output_type": "execute_result",
          "data": {
            "text/plain": [
              "dtype('O')"
            ]
          },
          "metadata": {
            "tags": []
          },
          "execution_count": 12
        }
      ]
    },
    {
      "cell_type": "code",
      "metadata": {
        "id": "fptl6xnjbhpM",
        "colab_type": "code",
        "colab": {},
        "outputId": "eeba467c-8eae-4116-e3b5-2d3872184c6f"
      },
      "source": [
        "data['country_code'].dtypes"
      ],
      "execution_count": 0,
      "outputs": [
        {
          "output_type": "execute_result",
          "data": {
            "text/plain": [
              "dtype('O')"
            ]
          },
          "metadata": {
            "tags": []
          },
          "execution_count": 13
        }
      ]
    },
    {
      "cell_type": "code",
      "metadata": {
        "id": "J2bonwv2bhpS",
        "colab_type": "code",
        "colab": {},
        "outputId": "02620156-5ab1-478f-8998-a939868a4a10"
      },
      "source": [
        "data['user_id'].dtypes"
      ],
      "execution_count": 0,
      "outputs": [
        {
          "output_type": "execute_result",
          "data": {
            "text/plain": [
              "dtype('int64')"
            ]
          },
          "metadata": {
            "tags": []
          },
          "execution_count": 14
        }
      ]
    },
    {
      "cell_type": "code",
      "metadata": {
        "id": "1mx_DqBYbhpZ",
        "colab_type": "code",
        "colab": {},
        "outputId": "fd21b74f-dd67-4610-8524-7b72960414f6"
      },
      "source": [
        "data['source'].dtypes"
      ],
      "execution_count": 0,
      "outputs": [
        {
          "output_type": "execute_result",
          "data": {
            "text/plain": [
              "dtype('O')"
            ]
          },
          "metadata": {
            "tags": []
          },
          "execution_count": 15
        }
      ]
    },
    {
      "cell_type": "code",
      "metadata": {
        "id": "dwLHShP1bhpg",
        "colab_type": "code",
        "colab": {},
        "outputId": "5dd73379-02f1-4deb-8d69-470a7d427169"
      },
      "source": [
        "data['country'].dtypes"
      ],
      "execution_count": 0,
      "outputs": [
        {
          "output_type": "execute_result",
          "data": {
            "text/plain": [
              "dtype('O')"
            ]
          },
          "metadata": {
            "tags": []
          },
          "execution_count": 16
        }
      ]
    },
    {
      "cell_type": "code",
      "metadata": {
        "id": "M_q_Zz9obhpq",
        "colab_type": "code",
        "colab": {},
        "outputId": "d186b709-d12c-499d-9197-026dacd90813"
      },
      "source": [
        "#For each data type how many columns are there\n",
        "print(\"object columns:\",len(data.select_dtypes(include='O').columns))\n",
        "print(\"int columns:\",len(data.select_dtypes(include='int64').columns))"
      ],
      "execution_count": 0,
      "outputs": [
        {
          "output_type": "stream",
          "text": [
            "object columns: 5\n",
            "int columns: 1\n"
          ],
          "name": "stdout"
        }
      ]
    },
    {
      "cell_type": "code",
      "metadata": {
        "id": "ihReSxbIbhpx",
        "colab_type": "code",
        "colab": {},
        "outputId": "1697fdfd-e100-4813-c990-f76fd541a47f"
      },
      "source": [
        "# Using describe function observe the different measures for numerical and categorical columns\n",
        "data.describe(include='int64')"
      ],
      "execution_count": 0,
      "outputs": [
        {
          "output_type": "execute_result",
          "data": {
            "text/html": [
              "<div>\n",
              "<style scoped>\n",
              "    .dataframe tbody tr th:only-of-type {\n",
              "        vertical-align: middle;\n",
              "    }\n",
              "\n",
              "    .dataframe tbody tr th {\n",
              "        vertical-align: top;\n",
              "    }\n",
              "\n",
              "    .dataframe thead th {\n",
              "        text-align: right;\n",
              "    }\n",
              "</style>\n",
              "<table border=\"1\" class=\"dataframe\">\n",
              "  <thead>\n",
              "    <tr style=\"text-align: right;\">\n",
              "      <th></th>\n",
              "      <th>user_id</th>\n",
              "    </tr>\n",
              "  </thead>\n",
              "  <tbody>\n",
              "    <tr>\n",
              "      <th>count</th>\n",
              "      <td>1.795000e+03</td>\n",
              "    </tr>\n",
              "    <tr>\n",
              "      <th>mean</th>\n",
              "      <td>2.458152e+09</td>\n",
              "    </tr>\n",
              "    <tr>\n",
              "      <th>std</th>\n",
              "      <td>5.183162e+02</td>\n",
              "    </tr>\n",
              "    <tr>\n",
              "      <th>min</th>\n",
              "      <td>2.458151e+09</td>\n",
              "    </tr>\n",
              "    <tr>\n",
              "      <th>25%</th>\n",
              "      <td>2.458152e+09</td>\n",
              "    </tr>\n",
              "    <tr>\n",
              "      <th>50%</th>\n",
              "      <td>2.458152e+09</td>\n",
              "    </tr>\n",
              "    <tr>\n",
              "      <th>75%</th>\n",
              "      <td>2.458153e+09</td>\n",
              "    </tr>\n",
              "    <tr>\n",
              "      <th>max</th>\n",
              "      <td>2.458153e+09</td>\n",
              "    </tr>\n",
              "  </tbody>\n",
              "</table>\n",
              "</div>"
            ],
            "text/plain": [
              "            user_id\n",
              "count  1.795000e+03\n",
              "mean   2.458152e+09\n",
              "std    5.183162e+02\n",
              "min    2.458151e+09\n",
              "25%    2.458152e+09\n",
              "50%    2.458152e+09\n",
              "75%    2.458153e+09\n",
              "max    2.458153e+09"
            ]
          },
          "metadata": {
            "tags": []
          },
          "execution_count": 18
        }
      ]
    },
    {
      "cell_type": "code",
      "metadata": {
        "id": "kt3RDLafbhp3",
        "colab_type": "code",
        "colab": {},
        "outputId": "5fbc175b-a05c-44ff-a4a4-7d8f8e3d2bf1"
      },
      "source": [
        "data.describe(include='O')"
      ],
      "execution_count": 0,
      "outputs": [
        {
          "output_type": "execute_result",
          "data": {
            "text/html": [
              "<div>\n",
              "<style scoped>\n",
              "    .dataframe tbody tr th:only-of-type {\n",
              "        vertical-align: middle;\n",
              "    }\n",
              "\n",
              "    .dataframe tbody tr th {\n",
              "        vertical-align: top;\n",
              "    }\n",
              "\n",
              "    .dataframe thead th {\n",
              "        text-align: right;\n",
              "    }\n",
              "</style>\n",
              "<table border=\"1\" class=\"dataframe\">\n",
              "  <thead>\n",
              "    <tr style=\"text-align: right;\">\n",
              "      <th></th>\n",
              "      <th>my_datetime</th>\n",
              "      <th>event</th>\n",
              "      <th>country_code</th>\n",
              "      <th>source</th>\n",
              "      <th>country</th>\n",
              "    </tr>\n",
              "  </thead>\n",
              "  <tbody>\n",
              "    <tr>\n",
              "      <th>count</th>\n",
              "      <td>1795</td>\n",
              "      <td>1795</td>\n",
              "      <td>1795</td>\n",
              "      <td>1795</td>\n",
              "      <td>1795</td>\n",
              "    </tr>\n",
              "    <tr>\n",
              "      <th>unique</th>\n",
              "      <td>1773</td>\n",
              "      <td>1</td>\n",
              "      <td>8</td>\n",
              "      <td>3</td>\n",
              "      <td>6</td>\n",
              "    </tr>\n",
              "    <tr>\n",
              "      <th>top</th>\n",
              "      <td>2018-01-01 03:10:36</td>\n",
              "      <td>read</td>\n",
              "      <td>country_2</td>\n",
              "      <td>Reddit</td>\n",
              "      <td>Asia</td>\n",
              "    </tr>\n",
              "    <tr>\n",
              "      <th>freq</th>\n",
              "      <td>3</td>\n",
              "      <td>1795</td>\n",
              "      <td>462</td>\n",
              "      <td>949</td>\n",
              "      <td>667</td>\n",
              "    </tr>\n",
              "  </tbody>\n",
              "</table>\n",
              "</div>"
            ],
            "text/plain": [
              "                my_datetime event country_code  source country\n",
              "count                  1795  1795         1795    1795    1795\n",
              "unique                 1773     1            8       3       6\n",
              "top     2018-01-01 03:10:36  read    country_2  Reddit    Asia\n",
              "freq                      3  1795          462     949     667"
            ]
          },
          "metadata": {
            "tags": []
          },
          "execution_count": 19
        }
      ]
    },
    {
      "cell_type": "code",
      "metadata": {
        "id": "2E_BUKfHbhp-",
        "colab_type": "code",
        "colab": {},
        "outputId": "15e29b56-1cbd-44bf-ca3d-7e2c60b41c01"
      },
      "source": [
        "#Use the info function to get the detailed info of the dataframe\n",
        "data.info()"
      ],
      "execution_count": 0,
      "outputs": [
        {
          "output_type": "stream",
          "text": [
            "<class 'pandas.core.frame.DataFrame'>\n",
            "RangeIndex: 1795 entries, 0 to 1794\n",
            "Data columns (total 6 columns):\n",
            " #   Column        Non-Null Count  Dtype \n",
            "---  ------        --------------  ----- \n",
            " 0   my_datetime   1795 non-null   object\n",
            " 1   event         1795 non-null   object\n",
            " 2   country_code  1795 non-null   object\n",
            " 3   user_id       1795 non-null   int64 \n",
            " 4   source        1795 non-null   object\n",
            " 5   country       1795 non-null   object\n",
            "dtypes: int64(1), object(5)\n",
            "memory usage: 84.3+ KB\n"
          ],
          "name": "stdout"
        }
      ]
    },
    {
      "cell_type": "code",
      "metadata": {
        "id": "8x94H5uFbhqE",
        "colab_type": "code",
        "colab": {},
        "outputId": "b2cdea1a-d2ed-43c7-fca0-fbba6e780040"
      },
      "source": [
        "# Check for the duplicate values in all the columns\n",
        "for i in data.columns:\n",
        "    print(i,\"\\n\",data[data[i].duplicated()],\"\\n\\n\")"
      ],
      "execution_count": 0,
      "outputs": [
        {
          "output_type": "stream",
          "text": [
            "my_datetime \n",
            "               my_datetime event country_code     user_id   source  \\\n",
            "85    2018-01-01 01:17:48  read    country_8  2458151346   Reddit   \n",
            "96    2018-01-01 01:23:44  read    country_7  2458151357  AdWords   \n",
            "194   2018-01-01 02:46:20  read    country_6  2458151455      SEO   \n",
            "226   2018-01-01 03:10:36  read    country_6  2458151487   Reddit   \n",
            "227   2018-01-01 03:10:36  read    country_6  2458151488  AdWords   \n",
            "267   2018-01-01 03:31:51  read    country_7  2458151528  AdWords   \n",
            "337   2018-01-01 04:26:24  read    country_7  2458151598  AdWords   \n",
            "416   2018-01-01 05:44:15  read    country_7  2458151677   Reddit   \n",
            "420   2018-01-01 05:47:29  read    country_2  2458151681   Reddit   \n",
            "422   2018-01-01 05:47:50  read    country_5  2458151683   Reddit   \n",
            "458   2018-01-01 06:09:59  read    country_7  2458151719   Reddit   \n",
            "495   2018-01-01 06:38:26  read    country_5  2458151756   Reddit   \n",
            "721   2018-01-01 09:48:57  read    country_8  2458151982   Reddit   \n",
            "738   2018-01-01 10:00:14  read    country_7  2458151999   Reddit   \n",
            "772   2018-01-01 10:22:10  read    country_7  2458152033   Reddit   \n",
            "912   2018-01-01 12:14:20  read    country_5  2458152173      SEO   \n",
            "1302  2018-01-01 17:39:00  read    country_8  2458152563  AdWords   \n",
            "1494  2018-01-01 20:20:34  read    country_6  2458152755   Reddit   \n",
            "1536  2018-01-01 20:52:13  read    country_7  2458152797  AdWords   \n",
            "1660  2018-01-01 22:27:20  read    country_4  2458152921   Reddit   \n",
            "1731  2018-01-01 23:16:19  read    country_2  2458152992   Reddit   \n",
            "1793  2018-01-01 23:59:36  read    country_7  2458153054  AdWords   \n",
            "\n",
            "            country  \n",
            "85             Asia  \n",
            "96             Asia  \n",
            "194   North America  \n",
            "226   North America  \n",
            "227       Australia  \n",
            "267            Asia  \n",
            "337          Europe  \n",
            "416   North America  \n",
            "420          Europe  \n",
            "422            Asia  \n",
            "458            Asia  \n",
            "495   South America  \n",
            "721   North America  \n",
            "738            Asia  \n",
            "772          Africa  \n",
            "912   North America  \n",
            "1302         Europe  \n",
            "1494         Africa  \n",
            "1536  North America  \n",
            "1660         Africa  \n",
            "1731  South America  \n",
            "1793         Europe   \n",
            "\n",
            "\n",
            "event \n",
            "               my_datetime event country_code     user_id   source  \\\n",
            "1     2018-01-01 00:03:20  read    country_7  2458151262      SEO   \n",
            "2     2018-01-01 00:04:01  read    country_7  2458151263  AdWords   \n",
            "3     2018-01-01 00:04:02  read    country_7  2458151264  AdWords   \n",
            "4     2018-01-01 00:05:03  read    country_8  2458151265   Reddit   \n",
            "5     2018-01-01 00:05:42  read    country_6  2458151266   Reddit   \n",
            "...                   ...   ...          ...         ...      ...   \n",
            "1790  2018-01-01 23:57:14  read    country_2  2458153051  AdWords   \n",
            "1791  2018-01-01 23:58:33  read    country_8  2458153052      SEO   \n",
            "1792  2018-01-01 23:59:36  read    country_6  2458153053   Reddit   \n",
            "1793  2018-01-01 23:59:36  read    country_7  2458153054  AdWords   \n",
            "1794  2018-01-01 23:59:38  read    country_5  2458153055   Reddit   \n",
            "\n",
            "            country  \n",
            "1     South America  \n",
            "2            Africa  \n",
            "3            Europe  \n",
            "4     North America  \n",
            "5     North America  \n",
            "...             ...  \n",
            "1790  North America  \n",
            "1791           Asia  \n",
            "1792           Asia  \n",
            "1793         Europe  \n",
            "1794           Asia  \n",
            "\n",
            "[1794 rows x 6 columns] \n",
            "\n",
            "\n",
            "country_code \n",
            "               my_datetime event country_code     user_id   source  \\\n",
            "1     2018-01-01 00:03:20  read    country_7  2458151262      SEO   \n",
            "2     2018-01-01 00:04:01  read    country_7  2458151263  AdWords   \n",
            "3     2018-01-01 00:04:02  read    country_7  2458151264  AdWords   \n",
            "7     2018-01-01 00:06:15  read    country_6  2458151268  AdWords   \n",
            "8     2018-01-01 00:07:21  read    country_7  2458151269  AdWords   \n",
            "...                   ...   ...          ...         ...      ...   \n",
            "1790  2018-01-01 23:57:14  read    country_2  2458153051  AdWords   \n",
            "1791  2018-01-01 23:58:33  read    country_8  2458153052      SEO   \n",
            "1792  2018-01-01 23:59:36  read    country_6  2458153053   Reddit   \n",
            "1793  2018-01-01 23:59:36  read    country_7  2458153054  AdWords   \n",
            "1794  2018-01-01 23:59:38  read    country_5  2458153055   Reddit   \n",
            "\n",
            "            country  \n",
            "1     South America  \n",
            "2            Africa  \n",
            "3            Europe  \n",
            "7            Europe  \n",
            "8     North America  \n",
            "...             ...  \n",
            "1790  North America  \n",
            "1791           Asia  \n",
            "1792           Asia  \n",
            "1793         Europe  \n",
            "1794           Asia  \n",
            "\n",
            "[1787 rows x 6 columns] \n",
            "\n",
            "\n",
            "user_id \n",
            " Empty DataFrame\n",
            "Columns: [my_datetime, event, country_code, user_id, source, country]\n",
            "Index: [] \n",
            "\n",
            "\n",
            "source \n",
            "               my_datetime event country_code     user_id   source  \\\n",
            "1     2018-01-01 00:03:20  read    country_7  2458151262      SEO   \n",
            "3     2018-01-01 00:04:02  read    country_7  2458151264  AdWords   \n",
            "5     2018-01-01 00:05:42  read    country_6  2458151266   Reddit   \n",
            "6     2018-01-01 00:06:06  read    country_2  2458151267   Reddit   \n",
            "7     2018-01-01 00:06:15  read    country_6  2458151268  AdWords   \n",
            "...                   ...   ...          ...         ...      ...   \n",
            "1790  2018-01-01 23:57:14  read    country_2  2458153051  AdWords   \n",
            "1791  2018-01-01 23:58:33  read    country_8  2458153052      SEO   \n",
            "1792  2018-01-01 23:59:36  read    country_6  2458153053   Reddit   \n",
            "1793  2018-01-01 23:59:36  read    country_7  2458153054  AdWords   \n",
            "1794  2018-01-01 23:59:38  read    country_5  2458153055   Reddit   \n",
            "\n",
            "            country  \n",
            "1     South America  \n",
            "3            Europe  \n",
            "5     North America  \n",
            "6            Europe  \n",
            "7            Europe  \n",
            "...             ...  \n",
            "1790  North America  \n",
            "1791           Asia  \n",
            "1792           Asia  \n",
            "1793         Europe  \n",
            "1794           Asia  \n",
            "\n",
            "[1792 rows x 6 columns] \n",
            "\n",
            "\n",
            "country \n",
            "               my_datetime event country_code     user_id   source  \\\n",
            "4     2018-01-01 00:05:03  read    country_8  2458151265   Reddit   \n",
            "5     2018-01-01 00:05:42  read    country_6  2458151266   Reddit   \n",
            "6     2018-01-01 00:06:06  read    country_2  2458151267   Reddit   \n",
            "7     2018-01-01 00:06:15  read    country_6  2458151268  AdWords   \n",
            "8     2018-01-01 00:07:21  read    country_7  2458151269  AdWords   \n",
            "...                   ...   ...          ...         ...      ...   \n",
            "1790  2018-01-01 23:57:14  read    country_2  2458153051  AdWords   \n",
            "1791  2018-01-01 23:58:33  read    country_8  2458153052      SEO   \n",
            "1792  2018-01-01 23:59:36  read    country_6  2458153053   Reddit   \n",
            "1793  2018-01-01 23:59:36  read    country_7  2458153054  AdWords   \n",
            "1794  2018-01-01 23:59:38  read    country_5  2458153055   Reddit   \n",
            "\n",
            "            country  \n",
            "4     North America  \n",
            "5     North America  \n",
            "6            Europe  \n",
            "7            Europe  \n",
            "8     North America  \n",
            "...             ...  \n",
            "1790  North America  \n",
            "1791           Asia  \n",
            "1792           Asia  \n",
            "1793         Europe  \n",
            "1794           Asia  \n",
            "\n",
            "[1789 rows x 6 columns] \n",
            "\n",
            "\n"
          ],
          "name": "stdout"
        }
      ]
    },
    {
      "cell_type": "code",
      "metadata": {
        "id": "dQrNrX-7bhqK",
        "colab_type": "code",
        "colab": {},
        "outputId": "dc1c5473-5987-4cb0-a891-5489e16c6d0a"
      },
      "source": [
        "# Replace the value “South America” from country column with NaN and fill with mode of   the column\n",
        "data.replace({'country' : 'South America'},np.nan,inplace=True)\n",
        "data"
      ],
      "execution_count": 0,
      "outputs": [
        {
          "output_type": "execute_result",
          "data": {
            "text/html": [
              "<div>\n",
              "<style scoped>\n",
              "    .dataframe tbody tr th:only-of-type {\n",
              "        vertical-align: middle;\n",
              "    }\n",
              "\n",
              "    .dataframe tbody tr th {\n",
              "        vertical-align: top;\n",
              "    }\n",
              "\n",
              "    .dataframe thead th {\n",
              "        text-align: right;\n",
              "    }\n",
              "</style>\n",
              "<table border=\"1\" class=\"dataframe\">\n",
              "  <thead>\n",
              "    <tr style=\"text-align: right;\">\n",
              "      <th></th>\n",
              "      <th>my_datetime</th>\n",
              "      <th>event</th>\n",
              "      <th>country_code</th>\n",
              "      <th>user_id</th>\n",
              "      <th>source</th>\n",
              "      <th>country</th>\n",
              "    </tr>\n",
              "  </thead>\n",
              "  <tbody>\n",
              "    <tr>\n",
              "      <th>0</th>\n",
              "      <td>2018-01-01 00:01:01</td>\n",
              "      <td>read</td>\n",
              "      <td>country_7</td>\n",
              "      <td>2458151261</td>\n",
              "      <td>SEO</td>\n",
              "      <td>North America</td>\n",
              "    </tr>\n",
              "    <tr>\n",
              "      <th>1</th>\n",
              "      <td>2018-01-01 00:03:20</td>\n",
              "      <td>read</td>\n",
              "      <td>country_7</td>\n",
              "      <td>2458151262</td>\n",
              "      <td>SEO</td>\n",
              "      <td>NaN</td>\n",
              "    </tr>\n",
              "    <tr>\n",
              "      <th>2</th>\n",
              "      <td>2018-01-01 00:04:01</td>\n",
              "      <td>read</td>\n",
              "      <td>country_7</td>\n",
              "      <td>2458151263</td>\n",
              "      <td>AdWords</td>\n",
              "      <td>Africa</td>\n",
              "    </tr>\n",
              "    <tr>\n",
              "      <th>3</th>\n",
              "      <td>2018-01-01 00:04:02</td>\n",
              "      <td>read</td>\n",
              "      <td>country_7</td>\n",
              "      <td>2458151264</td>\n",
              "      <td>AdWords</td>\n",
              "      <td>Europe</td>\n",
              "    </tr>\n",
              "    <tr>\n",
              "      <th>4</th>\n",
              "      <td>2018-01-01 00:05:03</td>\n",
              "      <td>read</td>\n",
              "      <td>country_8</td>\n",
              "      <td>2458151265</td>\n",
              "      <td>Reddit</td>\n",
              "      <td>North America</td>\n",
              "    </tr>\n",
              "    <tr>\n",
              "      <th>...</th>\n",
              "      <td>...</td>\n",
              "      <td>...</td>\n",
              "      <td>...</td>\n",
              "      <td>...</td>\n",
              "      <td>...</td>\n",
              "      <td>...</td>\n",
              "    </tr>\n",
              "    <tr>\n",
              "      <th>1790</th>\n",
              "      <td>2018-01-01 23:57:14</td>\n",
              "      <td>read</td>\n",
              "      <td>country_2</td>\n",
              "      <td>2458153051</td>\n",
              "      <td>AdWords</td>\n",
              "      <td>North America</td>\n",
              "    </tr>\n",
              "    <tr>\n",
              "      <th>1791</th>\n",
              "      <td>2018-01-01 23:58:33</td>\n",
              "      <td>read</td>\n",
              "      <td>country_8</td>\n",
              "      <td>2458153052</td>\n",
              "      <td>SEO</td>\n",
              "      <td>Asia</td>\n",
              "    </tr>\n",
              "    <tr>\n",
              "      <th>1792</th>\n",
              "      <td>2018-01-01 23:59:36</td>\n",
              "      <td>read</td>\n",
              "      <td>country_6</td>\n",
              "      <td>2458153053</td>\n",
              "      <td>Reddit</td>\n",
              "      <td>Asia</td>\n",
              "    </tr>\n",
              "    <tr>\n",
              "      <th>1793</th>\n",
              "      <td>2018-01-01 23:59:36</td>\n",
              "      <td>read</td>\n",
              "      <td>country_7</td>\n",
              "      <td>2458153054</td>\n",
              "      <td>AdWords</td>\n",
              "      <td>Europe</td>\n",
              "    </tr>\n",
              "    <tr>\n",
              "      <th>1794</th>\n",
              "      <td>2018-01-01 23:59:38</td>\n",
              "      <td>read</td>\n",
              "      <td>country_5</td>\n",
              "      <td>2458153055</td>\n",
              "      <td>Reddit</td>\n",
              "      <td>Asia</td>\n",
              "    </tr>\n",
              "  </tbody>\n",
              "</table>\n",
              "<p>1795 rows × 6 columns</p>\n",
              "</div>"
            ],
            "text/plain": [
              "              my_datetime event country_code     user_id   source  \\\n",
              "0     2018-01-01 00:01:01  read    country_7  2458151261      SEO   \n",
              "1     2018-01-01 00:03:20  read    country_7  2458151262      SEO   \n",
              "2     2018-01-01 00:04:01  read    country_7  2458151263  AdWords   \n",
              "3     2018-01-01 00:04:02  read    country_7  2458151264  AdWords   \n",
              "4     2018-01-01 00:05:03  read    country_8  2458151265   Reddit   \n",
              "...                   ...   ...          ...         ...      ...   \n",
              "1790  2018-01-01 23:57:14  read    country_2  2458153051  AdWords   \n",
              "1791  2018-01-01 23:58:33  read    country_8  2458153052      SEO   \n",
              "1792  2018-01-01 23:59:36  read    country_6  2458153053   Reddit   \n",
              "1793  2018-01-01 23:59:36  read    country_7  2458153054  AdWords   \n",
              "1794  2018-01-01 23:59:38  read    country_5  2458153055   Reddit   \n",
              "\n",
              "            country  \n",
              "0     North America  \n",
              "1               NaN  \n",
              "2            Africa  \n",
              "3            Europe  \n",
              "4     North America  \n",
              "...             ...  \n",
              "1790  North America  \n",
              "1791           Asia  \n",
              "1792           Asia  \n",
              "1793         Europe  \n",
              "1794           Asia  \n",
              "\n",
              "[1795 rows x 6 columns]"
            ]
          },
          "metadata": {
            "tags": []
          },
          "execution_count": 22
        }
      ]
    },
    {
      "cell_type": "code",
      "metadata": {
        "id": "4YFyvX1YbhqR",
        "colab_type": "code",
        "colab": {},
        "outputId": "3570b582-1302-4573-efbe-ebbb324083dc"
      },
      "source": [
        "data['country']=data['country'].fillna(data.country.mode().iloc[0])\n",
        "data"
      ],
      "execution_count": 0,
      "outputs": [
        {
          "output_type": "execute_result",
          "data": {
            "text/html": [
              "<div>\n",
              "<style scoped>\n",
              "    .dataframe tbody tr th:only-of-type {\n",
              "        vertical-align: middle;\n",
              "    }\n",
              "\n",
              "    .dataframe tbody tr th {\n",
              "        vertical-align: top;\n",
              "    }\n",
              "\n",
              "    .dataframe thead th {\n",
              "        text-align: right;\n",
              "    }\n",
              "</style>\n",
              "<table border=\"1\" class=\"dataframe\">\n",
              "  <thead>\n",
              "    <tr style=\"text-align: right;\">\n",
              "      <th></th>\n",
              "      <th>my_datetime</th>\n",
              "      <th>event</th>\n",
              "      <th>country_code</th>\n",
              "      <th>user_id</th>\n",
              "      <th>source</th>\n",
              "      <th>country</th>\n",
              "    </tr>\n",
              "  </thead>\n",
              "  <tbody>\n",
              "    <tr>\n",
              "      <th>0</th>\n",
              "      <td>2018-01-01 00:01:01</td>\n",
              "      <td>read</td>\n",
              "      <td>country_7</td>\n",
              "      <td>2458151261</td>\n",
              "      <td>SEO</td>\n",
              "      <td>North America</td>\n",
              "    </tr>\n",
              "    <tr>\n",
              "      <th>1</th>\n",
              "      <td>2018-01-01 00:03:20</td>\n",
              "      <td>read</td>\n",
              "      <td>country_7</td>\n",
              "      <td>2458151262</td>\n",
              "      <td>SEO</td>\n",
              "      <td>Asia</td>\n",
              "    </tr>\n",
              "    <tr>\n",
              "      <th>2</th>\n",
              "      <td>2018-01-01 00:04:01</td>\n",
              "      <td>read</td>\n",
              "      <td>country_7</td>\n",
              "      <td>2458151263</td>\n",
              "      <td>AdWords</td>\n",
              "      <td>Africa</td>\n",
              "    </tr>\n",
              "    <tr>\n",
              "      <th>3</th>\n",
              "      <td>2018-01-01 00:04:02</td>\n",
              "      <td>read</td>\n",
              "      <td>country_7</td>\n",
              "      <td>2458151264</td>\n",
              "      <td>AdWords</td>\n",
              "      <td>Europe</td>\n",
              "    </tr>\n",
              "    <tr>\n",
              "      <th>4</th>\n",
              "      <td>2018-01-01 00:05:03</td>\n",
              "      <td>read</td>\n",
              "      <td>country_8</td>\n",
              "      <td>2458151265</td>\n",
              "      <td>Reddit</td>\n",
              "      <td>North America</td>\n",
              "    </tr>\n",
              "    <tr>\n",
              "      <th>...</th>\n",
              "      <td>...</td>\n",
              "      <td>...</td>\n",
              "      <td>...</td>\n",
              "      <td>...</td>\n",
              "      <td>...</td>\n",
              "      <td>...</td>\n",
              "    </tr>\n",
              "    <tr>\n",
              "      <th>1790</th>\n",
              "      <td>2018-01-01 23:57:14</td>\n",
              "      <td>read</td>\n",
              "      <td>country_2</td>\n",
              "      <td>2458153051</td>\n",
              "      <td>AdWords</td>\n",
              "      <td>North America</td>\n",
              "    </tr>\n",
              "    <tr>\n",
              "      <th>1791</th>\n",
              "      <td>2018-01-01 23:58:33</td>\n",
              "      <td>read</td>\n",
              "      <td>country_8</td>\n",
              "      <td>2458153052</td>\n",
              "      <td>SEO</td>\n",
              "      <td>Asia</td>\n",
              "    </tr>\n",
              "    <tr>\n",
              "      <th>1792</th>\n",
              "      <td>2018-01-01 23:59:36</td>\n",
              "      <td>read</td>\n",
              "      <td>country_6</td>\n",
              "      <td>2458153053</td>\n",
              "      <td>Reddit</td>\n",
              "      <td>Asia</td>\n",
              "    </tr>\n",
              "    <tr>\n",
              "      <th>1793</th>\n",
              "      <td>2018-01-01 23:59:36</td>\n",
              "      <td>read</td>\n",
              "      <td>country_7</td>\n",
              "      <td>2458153054</td>\n",
              "      <td>AdWords</td>\n",
              "      <td>Europe</td>\n",
              "    </tr>\n",
              "    <tr>\n",
              "      <th>1794</th>\n",
              "      <td>2018-01-01 23:59:38</td>\n",
              "      <td>read</td>\n",
              "      <td>country_5</td>\n",
              "      <td>2458153055</td>\n",
              "      <td>Reddit</td>\n",
              "      <td>Asia</td>\n",
              "    </tr>\n",
              "  </tbody>\n",
              "</table>\n",
              "<p>1795 rows × 6 columns</p>\n",
              "</div>"
            ],
            "text/plain": [
              "              my_datetime event country_code     user_id   source  \\\n",
              "0     2018-01-01 00:01:01  read    country_7  2458151261      SEO   \n",
              "1     2018-01-01 00:03:20  read    country_7  2458151262      SEO   \n",
              "2     2018-01-01 00:04:01  read    country_7  2458151263  AdWords   \n",
              "3     2018-01-01 00:04:02  read    country_7  2458151264  AdWords   \n",
              "4     2018-01-01 00:05:03  read    country_8  2458151265   Reddit   \n",
              "...                   ...   ...          ...         ...      ...   \n",
              "1790  2018-01-01 23:57:14  read    country_2  2458153051  AdWords   \n",
              "1791  2018-01-01 23:58:33  read    country_8  2458153052      SEO   \n",
              "1792  2018-01-01 23:59:36  read    country_6  2458153053   Reddit   \n",
              "1793  2018-01-01 23:59:36  read    country_7  2458153054  AdWords   \n",
              "1794  2018-01-01 23:59:38  read    country_5  2458153055   Reddit   \n",
              "\n",
              "            country  \n",
              "0     North America  \n",
              "1              Asia  \n",
              "2            Africa  \n",
              "3            Europe  \n",
              "4     North America  \n",
              "...             ...  \n",
              "1790  North America  \n",
              "1791           Asia  \n",
              "1792           Asia  \n",
              "1793         Europe  \n",
              "1794           Asia  \n",
              "\n",
              "[1795 rows x 6 columns]"
            ]
          },
          "metadata": {
            "tags": []
          },
          "execution_count": 23
        }
      ]
    },
    {
      "cell_type": "code",
      "metadata": {
        "id": "Xw7rbw3hbhqX",
        "colab_type": "code",
        "colab": {},
        "outputId": "6301e75d-2ac2-4e72-b3f9-cf1ca640909e"
      },
      "source": [
        "#Check the count of categories being repeated in the source column.\n",
        "data['source'].value_counts()"
      ],
      "execution_count": 0,
      "outputs": [
        {
          "output_type": "execute_result",
          "data": {
            "text/plain": [
              "Reddit     949\n",
              "AdWords    500\n",
              "SEO        346\n",
              "Name: source, dtype: int64"
            ]
          },
          "metadata": {
            "tags": []
          },
          "execution_count": 24
        }
      ]
    },
    {
      "cell_type": "code",
      "metadata": {
        "id": "t5EVUIrlbhqi",
        "colab_type": "code",
        "colab": {}
      },
      "source": [
        ""
      ],
      "execution_count": 0,
      "outputs": []
    }
  ]
}