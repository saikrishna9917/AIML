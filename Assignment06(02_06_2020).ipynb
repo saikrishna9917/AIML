{
  "nbformat": 4,
  "nbformat_minor": 0,
  "metadata": {
    "colab": {
      "name": "Assignment(02-06-2020).ipynb",
      "provenance": [],
      "authorship_tag": "ABX9TyPG1ABQf6AsU+MsQJd6ZwNA",
      "include_colab_link": true
    },
    "kernelspec": {
      "name": "python3",
      "display_name": "Python 3"
    }
  },
  "cells": [
    {
      "cell_type": "markdown",
      "metadata": {
        "id": "view-in-github",
        "colab_type": "text"
      },
      "source": [
        "<a href=\"https://colab.research.google.com/github/saikrishna9917/AIML/blob/master/Assignment06(02_06_2020).ipynb\" target=\"_parent\"><img src=\"https://colab.research.google.com/assets/colab-badge.svg\" alt=\"Open In Colab\"/></a>"
      ]
    },
    {
      "cell_type": "code",
      "metadata": {
        "id": "R68oKrPDmxzn",
        "colab_type": "code",
        "colab": {}
      },
      "source": [
        "import random\n",
        "lives = 9\n",
        "heart_symbol = '\\u2764'\n",
        "words = [\"hello\",\"pizza\",\"apple\",\"fairy\",\"teeth\"]\n",
        "secret_word = random.choice(words)\n",
        "clue = list('?????')\n",
        "guessed_word_correctly = False\n"
      ],
      "execution_count": 0,
      "outputs": []
    },
    {
      "cell_type": "code",
      "metadata": {
        "id": "XCx89_VEnvUx",
        "colab_type": "code",
        "colab": {}
      },
      "source": [
        "def update_clue(guessed_letter,secret_word,clue):\n",
        "    index = 0\n",
        "    while index<len(secret_word):\n",
        "        if guessed_letter == secret_word[index]:\n",
        "           clue[index] = guessed_letter\n",
        "        index += 1   \n",
        "           "
      ],
      "execution_count": 0,
      "outputs": []
    },
    {
      "cell_type": "code",
      "metadata": {
        "id": "kQQJUOqPnvRO",
        "colab_type": "code",
        "outputId": "2281b304-247b-4b0f-efb4-2b7c8147b9bb",
        "colab": {
          "base_uri": "https://localhost:8080/",
          "height": 289
        }
      },
      "source": [
        "while lives>0:\n",
        "   print(clue)\n",
        "   print(\"lives left:\",heart_symbol*lives)\n",
        "   guess = input(\"guess a letter or whole word\")\n",
        "   if guess == secret_word:\n",
        "       guessed_word_correctly = True\n",
        "       break\n",
        "   elif guess in secret_word:\n",
        "       update_clue(guess,secret_word,clue)\n",
        "   else:\n",
        "       print(\"incorrect guess.you lose a life\")\n",
        "       lives -= 1\n",
        "if guessed_word_correctly:\n",
        "   print(\"YOU WON THE GAME,secret_word was:\",secret_word)\n",
        "else:\n",
        "  print(\"you lost the game,secret_word was:\",secret_word )   "
      ],
      "execution_count": 0,
      "outputs": [
        {
          "output_type": "stream",
          "text": [
            "['?', '?', '?', '?', '?']\n",
            "lives left: ❤❤❤❤❤❤❤❤❤\n",
            "guess a letter or whole wordp\n",
            "['p', '?', '?', '?', '?']\n",
            "lives left: ❤❤❤❤❤❤❤❤❤\n",
            "guess a letter or whole wordi\n",
            "['p', 'i', '?', '?', '?']\n",
            "lives left: ❤❤❤❤❤❤❤❤❤\n",
            "guess a letter or whole wordz\n",
            "['p', 'i', 'z', 'z', '?']\n",
            "lives left: ❤❤❤❤❤❤❤❤❤\n",
            "guess a letter or whole worda\n",
            "['p', 'i', 'z', 'z', 'a']\n",
            "lives left: ❤❤❤❤❤❤❤❤❤\n",
            "guess a letter or whole wordpizza\n",
            "YOU WON THE GAME,secret_word was: pizza\n"
          ],
          "name": "stdout"
        }
      ]
    },
    {
      "cell_type": "code",
      "metadata": {
        "id": "cwLRj-g0p6hs",
        "colab_type": "code",
        "colab": {}
      },
      "source": [
        ""
      ],
      "execution_count": 0,
      "outputs": []
    }
  ]
}