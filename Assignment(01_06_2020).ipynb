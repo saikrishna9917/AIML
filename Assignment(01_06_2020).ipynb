{
  "nbformat": 4,
  "nbformat_minor": 0,
  "metadata": {
    "colab": {
      "name": "Assignment(01-06-2020).ipynb",
      "provenance": [],
      "authorship_tag": "ABX9TyOkM6KaxZU4xlfhrSWBKeh0",
      "include_colab_link": true
    },
    "kernelspec": {
      "name": "python3",
      "display_name": "Python 3"
    }
  },
  "cells": [
    {
      "cell_type": "markdown",
      "metadata": {
        "id": "view-in-github",
        "colab_type": "text"
      },
      "source": [
        "<a href=\"https://colab.research.google.com/github/saikrishna9917/AIML/blob/master/Assignment(01_06_2020).ipynb\" target=\"_parent\"><img src=\"https://colab.research.google.com/assets/colab-badge.svg\" alt=\"Open In Colab\"/></a>"
      ]
    },
    {
      "cell_type": "code",
      "metadata": {
        "id": "CFH9rVkkORjV",
        "colab_type": "code",
        "colab": {
          "base_uri": "https://localhost:8080/",
          "height": 68
        },
        "outputId": "e6a671fe-351f-45dc-8ecd-34215e347e33"
      },
      "source": [
        "#PasswordPicker\n",
        "import string\n",
        "import random\n",
        "\n",
        "verblist=[\"Eat\",\"Sleep\",\"Bath\",\"Walk\",\"Stand\",\"Play\",\"Run\",\"Cook\",\"Build\",\"Make\"]\n",
        "nounlist=[\"pen\",\"pencil\",\"eraser\",\"mobile\",\"book\",\"sofa\",\"chair\",\"table\",\"remote\",\"laptop\"]\n",
        "\n",
        "while(str):\n",
        "        str=input(\"Enter Yes or No\")\n",
        "        if(str==\"Yes\"):\n",
        "            print(random.choice(verblist)+random.choice(nounlist),end=\"\")\n",
        "            print(random.randint(1,100),end=\"\")\n",
        "            print(random.choice(string.punctuation))\n",
        "        else:\n",
        "             break"
      ],
      "execution_count": 3,
      "outputs": [
        {
          "output_type": "stream",
          "text": [
            "Enter Yes or NoYes\n",
            "Makechair21:\n",
            "Enter Yes or NoNo\n"
          ],
          "name": "stdout"
        }
      ]
    }
  ]
}