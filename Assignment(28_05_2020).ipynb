{
  "nbformat": 4,
  "nbformat_minor": 0,
  "metadata": {
    "colab": {
      "name": "Assignment(28-05-2020)",
      "provenance": [],
      "authorship_tag": "ABX9TyNHuQu7f/l7YozqV1foYqcP",
      "include_colab_link": true
    },
    "kernelspec": {
      "name": "python3",
      "display_name": "Python 3"
    }
  },
  "cells": [
    {
      "cell_type": "markdown",
      "metadata": {
        "id": "view-in-github",
        "colab_type": "text"
      },
      "source": [
        "<a href=\"https://colab.research.google.com/github/saikrishna9917/AIML/blob/master/Assignment(28_05_2020).ipynb\" target=\"_parent\"><img src=\"https://colab.research.google.com/assets/colab-badge.svg\" alt=\"Open In Colab\"/></a>"
      ]
    },
    {
      "cell_type": "markdown",
      "metadata": {
        "id": "8Qw3Rz2l3kzf",
        "colab_type": "text"
      },
      "source": [
        "# Accept a string from the user and count no.of vowels,consonants and special characters"
      ]
    },
    {
      "cell_type": "code",
      "metadata": {
        "id": "ToRY62H8yTnp",
        "colab_type": "code",
        "outputId": "3067aa29-b9cc-4bc4-ab93-965c83190ab0",
        "colab": {
          "base_uri": "https://localhost:8080/",
          "height": 85
        }
      },
      "source": [
        "vcount = 0\n",
        "ccount = 0\n",
        "scount = 0\n",
        "str = input(\"enter the string :\")  \n",
        "for i in range(0,len(str)):   \n",
        "    #Checks whether a character is a vowel  \n",
        "    if str[i] in ('a',\"e\",\"i\",\"o\",\"u\"):  \n",
        "        vcount = vcount + 1 \n",
        "    elif (str[i] >= 'a' and str[i] <= 'z'):  \n",
        "        ccount = ccount + 1  \n",
        "    else:\n",
        "        scount = scount + 1 \n",
        "print(\"no of vowels:\",vcount)  \n",
        "print(\"no of consonants:\",ccount)  \n",
        "print(\"no of spl char:\",scount)"
      ],
      "execution_count": 0,
      "outputs": [
        {
          "output_type": "stream",
          "text": [
            "enter the string :awfuialernl\n",
            "no of vowels: 5\n",
            "no of consonants: 6\n",
            "no of spl char: 0\n"
          ],
          "name": "stdout"
        }
      ]
    },
    {
      "cell_type": "markdown",
      "metadata": {
        "id": "MogUn59738tS",
        "colab_type": "text"
      },
      "source": [
        "# count the no.of pairs of a in the given string(Infosys InfyTQ)\n",
        "    string →  \"abbaaccbbaaa\"\n",
        "    output →  2\n"
      ]
    },
    {
      "cell_type": "code",
      "metadata": {
        "id": "OtMGg2ev3ykN",
        "colab_type": "code",
        "outputId": "0ab6ed9c-3f10-4b72-9667-b3a3107521d0",
        "colab": {
          "base_uri": "https://localhost:8080/",
          "height": 51
        }
      },
      "source": [
        "a=input('Enter a string:').lower()\n",
        "p=0\n",
        "c=0\n",
        "for i in a:\n",
        "    if i=='a' and c==0:\n",
        "        c=1\n",
        "    elif i=='a' and c==1:\n",
        "        c=0\n",
        "        p=p+1\n",
        "    else:\n",
        "        c=0\n",
        "print(\"Pairs:\",p)"
      ],
      "execution_count": 0,
      "outputs": [
        {
          "output_type": "stream",
          "text": [
            "Enter a string:abbaaccbbaaa\n",
            "Pairs: 2\n"
          ],
          "name": "stdout"
        }
      ]
    },
    {
      "cell_type": "markdown",
      "metadata": {
        "id": "c_AmCLXQ6_0h",
        "colab_type": "text"
      },
      "source": [
        "# Test case1:\n",
        "        string →  \"((((()()()))))()\"\n",
        "        output →  8\n",
        "#    Test case2:\n",
        "        string →  \"((()))()\"\n",
        "        Output →  4\n"
      ]
    },
    {
      "cell_type": "code",
      "metadata": {
        "id": "c5p6Rku04LIi",
        "colab_type": "code",
        "outputId": "fbf598c9-58fe-411b-d04f-e4bd0ac7e595",
        "colab": {
          "base_uri": "https://localhost:8080/",
          "height": 51
        }
      },
      "source": [
        "def check(str):\n",
        "    stack = []\n",
        "    sum = 0\n",
        "    open_list = [\"(\"]\n",
        "    for i in str:\n",
        "        if i in open_list:\n",
        "            stack.append(i)\n",
        "        else :\n",
        "            stack.pop()\n",
        "            sum += 1\n",
        "    print(\"Number of parentheses : \", sum)\n",
        "# Driver function.\n",
        "str = input(\"Enter your string : \")\n",
        "check(str)"
      ],
      "execution_count": 0,
      "outputs": [
        {
          "output_type": "stream",
          "text": [
            "Enter your string : ((()))()\n",
            "Number of parentheses :  4\n"
          ],
          "name": "stdout"
        }
      ]
    },
    {
      "cell_type": "markdown",
      "metadata": {
        "id": "JnNsVqfg9dxG",
        "colab_type": "text"
      },
      "source": [
        "# Read the input as two limits and Print the output as Palindrome count between the two limits\n",
        "Example #1; Input : 1 10 Output : 9\n",
        " \n",
        "Example #2: Input : 1 100 Output : 18\n"
      ]
    },
    {
      "cell_type": "code",
      "metadata": {
        "id": "pJQxiO-sA8XU",
        "colab_type": "code",
        "colab": {
          "base_uri": "https://localhost:8080/",
          "height": 68
        },
        "outputId": "50de0285-52b4-401a-dbdb-d717ad81dc8b"
      },
      "source": [
        "def isPalindrome(n: int) -> bool: \n",
        "    rev = 0\n",
        "    i = n \n",
        "    while i > 0: \n",
        "        rev = rev * 10 + i % 10\n",
        "        i //= 10 \n",
        "    return (n == rev) \n",
        "\n",
        "def countPal(minn: int, maxx: int) -> None: \n",
        "    c=0\n",
        "    for i in range(minn, maxx + 1): \n",
        "        if isPalindrome(i): \n",
        "            c+=1 \n",
        "    print(c)\n",
        "x=int(input())\n",
        "y=int(input())\n",
        "countPal(x,y)\n"
      ],
      "execution_count": 24,
      "outputs": [
        {
          "output_type": "stream",
          "text": [
            "1\n",
            "100\n",
            "18\n"
          ],
          "name": "stdout"
        }
      ]
    },
    {
      "cell_type": "markdown",
      "metadata": {
        "id": "UZWRwlqyDExu",
        "colab_type": "text"
      },
      "source": [
        "# Accept a number as an input and check whether the given number is palindrome or not\n",
        "if it is a palindrome number print the number on the screen\n",
        "if it is not a palindrome number reverse that number and add it to previous number repeat this until will get a palindrome number and print that palindrome number on the screen\n",
        "input: 127\n",
        "output: 848\n"
      ]
    },
    {
      "cell_type": "code",
      "metadata": {
        "id": "TVRcf4_LOYhQ",
        "colab_type": "code",
        "colab": {}
      },
      "source": [
        "n=int(input())\n",
        "while True:\n",
        "    if str (n) == str (n)[::-1]:\n",
        "        print(str(n)[::-1],\"is a palindrome\")\n",
        "        break\n",
        "    else:\n",
        "        n+=int(str(n)[::-1])"
      ],
      "execution_count": 0,
      "outputs": []
    },
    {
      "cell_type": "markdown",
      "metadata": {
        "id": "tG7w8yeUDKgx",
        "colab_type": "text"
      },
      "source": [
        "# input:orange  →   output : puboif\n"
      ]
    },
    {
      "cell_type": "code",
      "metadata": {
        "id": "_hG_3ZfAVBTf",
        "colab_type": "code",
        "colab": {}
      },
      "source": [
        "s=str(input('enter a string'))\n",
        "vowel=['a','e','i','o','u']\n",
        "for i in s:\n",
        "    if i in vowel:\n",
        "        print(chr(ord(i)+1),end='')\n",
        "    elif (ord(i)>65 and ord(i)<69) or (ord(i)>97 and ord(i)<101):\n",
        "        print('e',end='')\n",
        "    elif (ord(i)>69 and ord(i)<73) or (ord(i)>101 and ord(i)<105):\n",
        "        print('i',end='')  \n",
        "    elif (ord(i)>73 and ord(i)<79) or (ord(i)>105 and ord(i)<111):\n",
        "        print('o',end='')\n",
        "    elif (ord(i)>79 and ord(i)<85) or (ord(i)>111 and ord(i)<117):\n",
        "        print('u',end='')\n",
        "    elif (ord(i)>85 and ord(i)<90) or (ord(i)>117 and ord(i)<122):\n",
        "        print('a',end='')"
      ],
      "execution_count": 0,
      "outputs": []
    },
    {
      "cell_type": "markdown",
      "metadata": {
        "id": "ltByHwODDQ1o",
        "colab_type": "text"
      },
      "source": [
        "# Accept input as a string and display sum of digits as the output \n",
        "input:Appli123cation456 \n",
        "\n",
        "Output: 21\n"
      ]
    },
    {
      "cell_type": "code",
      "metadata": {
        "id": "Q7AC6jRCDW3o",
        "colab_type": "code",
        "outputId": "d38fac1c-6f81-4e1d-a9eb-a7d659e9e9a4",
        "colab": {
          "base_uri": "https://localhost:8080/",
          "height": 51
        }
      },
      "source": [
        "def sum_digits_string(str1):\n",
        "    sum_digit = 0\n",
        "    for x in str1:\n",
        "        if x.isdigit() == True:\n",
        "            z = int(x)\n",
        "            sum_digit = sum_digit + z\n",
        "\n",
        "    return sum_digit\n",
        "     \n",
        "print(sum_digits_string(input(\"enter a string\")))"
      ],
      "execution_count": 0,
      "outputs": [
        {
          "output_type": "stream",
          "text": [
            "enter a stringAppli123cation456\n",
            "21\n"
          ],
          "name": "stdout"
        }
      ]
    },
    {
      "cell_type": "markdown",
      "metadata": {
        "id": "G0AHRpQXDXYw",
        "colab_type": "text"
      },
      "source": [
        "# Write a program to prompt for a score between 0.0 and 1.0. If the score is out of range, print an error. If the score is between 0.0 and 1.0, print a grade using the following table:\n",
        "Score Grade\n",
        " >= 0.9 A\n",
        "\n",
        " >= 0.8 B\n",
        "\n",
        " >= 0.7 C\n",
        "\n",
        " >= 0.6 D\n",
        "\n",
        " < 0.6 F\n",
        "\n",
        "If the user enters a value out of range, print a suitable error message and exit. For the test, enter a score of 0.85\n"
      ]
    },
    {
      "cell_type": "code",
      "metadata": {
        "id": "dAf7GfbEDgfW",
        "colab_type": "code",
        "outputId": "0c6850cd-76e0-4ca9-f678-a8e6a409fc5e",
        "colab": {
          "base_uri": "https://localhost:8080/",
          "height": 51
        }
      },
      "source": [
        "score = input(\"Enter Score: \")\n",
        "s =  float(score)\n",
        "x = 'Error'\n",
        "if s >= 0.9:\n",
        "\tx = 'A'\n",
        "elif s >=0.8:\n",
        "\tx='B'\n",
        "elif s >=0.7:\n",
        "\tx='C'\n",
        "elif s >= 0.6:\n",
        "\tx='D'\n",
        "elif s < .6:\n",
        "\tx ='F'\n",
        "else:\n",
        "\tx =\"Out of Range\"\n",
        "print (x)"
      ],
      "execution_count": 0,
      "outputs": [
        {
          "output_type": "stream",
          "text": [
            "Enter Score: 0.6\n",
            "D\n"
          ],
          "name": "stdout"
        }
      ]
    },
    {
      "cell_type": "markdown",
      "metadata": {
        "id": "OBWmU8kHDhD2",
        "colab_type": "text"
      },
      "source": [
        "# Write a Python program which iterates the integers from 1 to 50. For multiples of three print \"Fizz\" instead of the number and for the multiples of five print \"Buzz\". For numbers which are multiples of both three and five print \"FizzBuzz\".\n",
        "Sample Output :\n",
        "\n",
        "fizzbuzz\n",
        "\n",
        "1\n",
        "\n",
        "2\n",
        "\n",
        "fizz\n",
        "\n",
        "4\n",
        "\n",
        "buzz\n"
      ]
    },
    {
      "cell_type": "code",
      "metadata": {
        "id": "h625c6z9DrH7",
        "colab_type": "code",
        "outputId": "0d6ce611-c0e3-4dd3-d5a6-1330d3a4d4a3",
        "colab": {
          "base_uri": "https://localhost:8080/",
          "height": 884
        }
      },
      "source": [
        "for fizzbuzz in range(51):\n",
        "    if fizzbuzz % 3 == 0 and fizzbuzz % 5 == 0:\n",
        "        print(\"fizzbuzz\")\n",
        "        continue\n",
        "    elif fizzbuzz % 3 == 0:\n",
        "        print(\"fizz\")\n",
        "        continue\n",
        "    elif fizzbuzz % 5 == 0:\n",
        "        print(\"buzz\")\n",
        "        continue\n",
        "    print(fizzbuzz)"
      ],
      "execution_count": 0,
      "outputs": [
        {
          "output_type": "stream",
          "text": [
            "fizzbuzz\n",
            "1\n",
            "2\n",
            "fizz\n",
            "4\n",
            "buzz\n",
            "fizz\n",
            "7\n",
            "8\n",
            "fizz\n",
            "buzz\n",
            "11\n",
            "fizz\n",
            "13\n",
            "14\n",
            "fizzbuzz\n",
            "16\n",
            "17\n",
            "fizz\n",
            "19\n",
            "buzz\n",
            "fizz\n",
            "22\n",
            "23\n",
            "fizz\n",
            "buzz\n",
            "26\n",
            "fizz\n",
            "28\n",
            "29\n",
            "fizzbuzz\n",
            "31\n",
            "32\n",
            "fizz\n",
            "34\n",
            "buzz\n",
            "fizz\n",
            "37\n",
            "38\n",
            "fizz\n",
            "buzz\n",
            "41\n",
            "fizz\n",
            "43\n",
            "44\n",
            "fizzbuzz\n",
            "46\n",
            "47\n",
            "fizz\n",
            "49\n",
            "buzz\n"
          ],
          "name": "stdout"
        }
      ]
    },
    {
      "cell_type": "markdown",
      "metadata": {
        "id": "H59QrIMYDrns",
        "colab_type": "text"
      },
      "source": [
        "# Write a Python program to find the median of three values.\n",
        "Expected Output:\n",
        "Input first number: 26                                            \n",
        "Input second number: 15                                                \n",
        "Input third number: 29                                                  \n",
        "The median is 26\n",
        "\n"
      ]
    },
    {
      "cell_type": "code",
      "metadata": {
        "id": "NcrI3SiPL64G",
        "colab_type": "code",
        "outputId": "b2407f91-a03c-4710-b899-bb66ed271db9",
        "colab": {
          "base_uri": "https://localhost:8080/",
          "height": 102
        }
      },
      "source": [
        "x = input(\"Input the first number\")\n",
        "y = input(\"Input the second number\")\n",
        "z = input(\"Input the third number\")\n",
        "print(\"Median of the above three numbers -\")\n",
        "\n",
        "if y < x and x < z:\n",
        "    print(x)\n",
        "elif z < x and x < y:\n",
        "    print(x)\n",
        "    \n",
        "elif z < y and y < x:\n",
        "    print(y)\n",
        "elif x < y and y < z:\n",
        "    print(y)\n",
        "    \n",
        "elif y < z and z < x:\n",
        "    print(z)    \n",
        "elif x < z and z < y:\n",
        "    print(z)"
      ],
      "execution_count": 0,
      "outputs": [
        {
          "output_type": "stream",
          "text": [
            "Input the first number26\n",
            "Input the second number15\n",
            "Input the third number29\n",
            "Median of the above three numbers -\n",
            "26\n"
          ],
          "name": "stdout"
        }
      ]
    }
  ]
}