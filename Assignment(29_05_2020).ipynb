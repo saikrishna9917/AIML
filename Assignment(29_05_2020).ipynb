{
  "nbformat": 4,
  "nbformat_minor": 0,
  "metadata": {
    "colab": {
      "name": "Assignment(29-05-2020).ipynb",
      "provenance": [],
      "authorship_tag": "ABX9TyN9WPBuU8ViL7vz4QrYYVyn",
      "include_colab_link": true
    },
    "kernelspec": {
      "name": "python3",
      "display_name": "Python 3"
    }
  },
  "cells": [
    {
      "cell_type": "markdown",
      "metadata": {
        "id": "view-in-github",
        "colab_type": "text"
      },
      "source": [
        "<a href=\"https://colab.research.google.com/github/saikrishna9917/AIML/blob/master/Assignment(29_05_2020).ipynb\" target=\"_parent\"><img src=\"https://colab.research.google.com/assets/colab-badge.svg\" alt=\"Open In Colab\"/></a>"
      ]
    },
    {
      "cell_type": "markdown",
      "metadata": {
        "id": "-JYLg8Tg_1vw",
        "colab_type": "text"
      },
      "source": [
        "# Create a function to find Factorial of a number using Recursion"
      ]
    },
    {
      "cell_type": "code",
      "metadata": {
        "id": "XTF_xLB7_xyn",
        "colab_type": "code",
        "outputId": "1941d31b-ee39-47eb-b0a7-b524ea1d083b",
        "colab": {
          "base_uri": "https://localhost:8080/",
          "height": 51
        }
      },
      "source": [
        "def fact(n):\n",
        "    if n==1:\n",
        "        return n\n",
        "    else:\n",
        "        return n*fact(n-1)\n",
        "n=int(input('enter n'))         \n",
        "print(fact(n))"
      ],
      "execution_count": 0,
      "outputs": [
        {
          "output_type": "stream",
          "text": [
            "enter n6\n",
            "720\n"
          ],
          "name": "stdout"
        }
      ]
    },
    {
      "cell_type": "markdown",
      "metadata": {
        "id": "8FIFkMHmAIAQ",
        "colab_type": "text"
      },
      "source": [
        "# Create a function and display ‘n’ Fibonacci numbers using Recursion"
      ]
    },
    {
      "cell_type": "code",
      "metadata": {
        "id": "4ZriUW2w_6oX",
        "colab_type": "code",
        "outputId": "313777a6-aac7-4dff-9359-b2e721646616",
        "colab": {
          "base_uri": "https://localhost:8080/",
          "height": 119
        }
      },
      "source": [
        "def fib(n):\n",
        "    if n<=1:\n",
        "        return n\n",
        "    else:\n",
        "        return(fib(n-1)+fib(n-2))\n",
        "    \n",
        "n=int(input('enter n'))\n",
        "for i in range(n):   \n",
        "         print(fib(i))"
      ],
      "execution_count": 0,
      "outputs": [
        {
          "output_type": "stream",
          "text": [
            "enter n5\n",
            "0\n",
            "1\n",
            "1\n",
            "2\n",
            "3\n"
          ],
          "name": "stdout"
        }
      ]
    },
    {
      "cell_type": "markdown",
      "metadata": {
        "id": "d1CL0IwLAUy7",
        "colab_type": "text"
      },
      "source": [
        "# Print sum of list of elements without using sum() function"
      ]
    },
    {
      "cell_type": "code",
      "metadata": {
        "id": "WCuVnbWIAPMZ",
        "colab_type": "code",
        "outputId": "798ad43d-b66e-4e1a-fb6d-5885950f9568",
        "colab": {
          "base_uri": "https://localhost:8080/",
          "height": 34
        }
      },
      "source": [
        "list1=[10,20,30,40]\n",
        "sum=0;\n",
        "for i in range(0,len(list1)):\n",
        "    sum=sum+list1[i]\n",
        "    \n",
        "print(sum)"
      ],
      "execution_count": 0,
      "outputs": [
        {
          "output_type": "stream",
          "text": [
            "100\n"
          ],
          "name": "stdout"
        }
      ]
    },
    {
      "cell_type": "markdown",
      "metadata": {
        "id": "Wbji9TplAfsW",
        "colab_type": "text"
      },
      "source": [
        "# print only even numbers from the list\n"
      ]
    },
    {
      "cell_type": "code",
      "metadata": {
        "id": "LQUnumOEAbeb",
        "colab_type": "code",
        "outputId": "6c072b10-b95b-4ffa-ba81-929a8b9a0d15",
        "colab": {
          "base_uri": "https://localhost:8080/",
          "height": 102
        }
      },
      "source": [
        "l1=[10,21,30,33,35,89,90,2,36,47]\n",
        "for i in range(0,len(l1)):\n",
        "    if l1[i]%2==0:\n",
        "        l2=print(l1[i])"
      ],
      "execution_count": 0,
      "outputs": [
        {
          "output_type": "stream",
          "text": [
            "10\n",
            "30\n",
            "90\n",
            "2\n",
            "36\n"
          ],
          "name": "stdout"
        }
      ]
    },
    {
      "cell_type": "markdown",
      "metadata": {
        "id": "1dgoYdbGAyFL",
        "colab_type": "text"
      },
      "source": [
        "# Write a Python program to get the smallest number from a list and display index of smallest element of the list\n"
      ]
    },
    {
      "cell_type": "code",
      "metadata": {
        "id": "EyMWi_yEAmAk",
        "colab_type": "code",
        "outputId": "25545f06-f61e-43e2-fae7-dbc310db62ae",
        "colab": {
          "base_uri": "https://localhost:8080/",
          "height": 51
        }
      },
      "source": [
        "l1=[10,20,4,5,66,89,10001,1,79]\n",
        "s=l1[0]\n",
        "for i in range(0,len(l1)):\n",
        "    if l1[i]<s:\n",
        "        a=l1[i]\n",
        "        ind=i\n",
        "        \n",
        "        \n",
        "print(a)\n",
        "print(ind+1)"
      ],
      "execution_count": 0,
      "outputs": [
        {
          "output_type": "stream",
          "text": [
            "1\n",
            "8\n"
          ],
          "name": "stdout"
        }
      ]
    },
    {
      "cell_type": "markdown",
      "metadata": {
        "id": "cJTWQCkEBbsx",
        "colab_type": "text"
      },
      "source": [
        "# Write a Python function that checks whether a passed string is palindrome or not."
      ]
    },
    {
      "cell_type": "code",
      "metadata": {
        "id": "bDztpsBCA4ew",
        "colab_type": "code",
        "outputId": "69a38621-ada9-48b3-d768-5b6bd8997dbe",
        "colab": {
          "base_uri": "https://localhost:8080/",
          "height": 51
        }
      },
      "source": [
        "str=input(\"enter a string\")\n",
        "if str == str[::-1]:\n",
        "    print('palindrome')\n",
        "else:\n",
        "    print('not a palindrome')"
      ],
      "execution_count": 0,
      "outputs": [
        {
          "output_type": "stream",
          "text": [
            "enter a stringhuiuh\n",
            "palindrome\n"
          ],
          "name": "stdout"
        }
      ]
    },
    {
      "cell_type": "markdown",
      "metadata": {
        "id": "KfvdGEWvBpTc",
        "colab_type": "text"
      },
      "source": [
        "# Write a Python program to count the number of even and odd numbers from a series of numbers. \n",
        "Sample numbers : numbers = [1, 2, 3, 4, 5, 6, 7, 8, 9]\n",
        "\n",
        "Expected Output :\n",
        "\n",
        "Number of even numbers : 4\n",
        "\n",
        "Number of odd numbers : 5\n"
      ]
    },
    {
      "cell_type": "code",
      "metadata": {
        "id": "aHXfQuORBiLP",
        "colab_type": "code",
        "outputId": "268edd77-aeff-4309-a4a5-c082337add69",
        "colab": {
          "base_uri": "https://localhost:8080/",
          "height": 51
        }
      },
      "source": [
        "l1= [1, 2, 3, 4, 5, 6, 7, 8, 9]\n",
        "ec=0\n",
        "oc=0\n",
        "for i in range (0,len(l1)):\n",
        "    if i%2==0:\n",
        "        ec=ec+1;\n",
        "    else:\n",
        "        oc=oc+1\n",
        "        \n",
        "print(\"Number of even numbers=\",end=\" \")\n",
        "print(oc)\n",
        "print(\"Number of odd numbers=\",end=\" \")\n",
        "print(ec)"
      ],
      "execution_count": 0,
      "outputs": [
        {
          "output_type": "stream",
          "text": [
            "Number of even numbers= 4\n",
            "Number of odd numbers= 5\n"
          ],
          "name": "stdout"
        }
      ]
    },
    {
      "cell_type": "markdown",
      "metadata": {
        "id": "FFYqPR49CA_j",
        "colab_type": "text"
      },
      "source": [
        "# Write a Python program that prints all the numbers from 0 to 6 except 3 and 6.\n",
        "Note : Use 'continue' statement.\n",
        "\n",
        "Expected Output : 0 1 2 4 5\n"
      ]
    },
    {
      "cell_type": "code",
      "metadata": {
        "id": "OEOPK_FJBztC",
        "colab_type": "code",
        "outputId": "11b26e59-1a11-4a9d-bc10-aec22310f19b",
        "colab": {
          "base_uri": "https://localhost:8080/",
          "height": 102
        }
      },
      "source": [
        "for i in range (0,7):\n",
        "    if i==3 or i==6:\n",
        "        continue\n",
        "    else:\n",
        "        print(i)"
      ],
      "execution_count": 0,
      "outputs": [
        {
          "output_type": "stream",
          "text": [
            "0\n",
            "1\n",
            "2\n",
            "4\n",
            "5\n"
          ],
          "name": "stdout"
        }
      ]
    },
    {
      "cell_type": "markdown",
      "metadata": {
        "id": "hJfuaNqFDU22",
        "colab_type": "text"
      },
      "source": [
        "# Write a python function to check whether the given number is prime or not"
      ]
    },
    {
      "cell_type": "code",
      "metadata": {
        "id": "OqA--fJeCKzM",
        "colab_type": "code",
        "outputId": "7bef2ae5-b7d1-4545-9441-e26deda35e84",
        "colab": {
          "base_uri": "https://localhost:8080/",
          "height": 51
        }
      },
      "source": [
        "n=int(input(\"enter a number\"))\n",
        "c=0\n",
        "for i in range (2,n+1):\n",
        "    if n%i==0:\n",
        "        c=c+1\n",
        "        \n",
        "if c==1:\n",
        "    print(\"it is a prime number\")\n",
        "else:\n",
        "    print(\"not a prime number\")"
      ],
      "execution_count": 0,
      "outputs": [
        {
          "output_type": "stream",
          "text": [
            "enter a number131\n",
            "it is a prime number\n"
          ],
          "name": "stdout"
        }
      ]
    },
    {
      "cell_type": "markdown",
      "metadata": {
        "id": "kRatdv5nD5Ee",
        "colab_type": "text"
      },
      "source": [
        "# Write a python function to check whether the given number is Adam number or not\n",
        "Example: \n",
        "\n",
        "Input : 12\n",
        "\n",
        "Output : Adam Number\n"
      ]
    },
    {
      "cell_type": "code",
      "metadata": {
        "id": "H1AHrqyZDut8",
        "colab_type": "code",
        "outputId": "ef773c0a-938b-44f3-d269-f5c8469ba472",
        "colab": {
          "base_uri": "https://localhost:8080/",
          "height": 51
        }
      },
      "source": [
        "def rev(n):\n",
        "    rev=0\n",
        "    while n>0:\n",
        "        rem=n%10\n",
        "        rev=rev*10+rem\n",
        "        n=n//10\n",
        "    return rev\n",
        "        \n",
        "n=int(input(\"enter a number\"))\n",
        "s1=n*n\n",
        "rev1=rev(n)\n",
        "s2=rev1*rev1\n",
        "if s1==rev(s2):\n",
        "    print(\"Adam Number\")\n",
        "else:\n",
        "    print(\"Not a Adam Number\")"
      ],
      "execution_count": 0,
      "outputs": [
        {
          "output_type": "stream",
          "text": [
            "enter a number1345\n",
            "Not a Adam Number\n"
          ],
          "name": "stdout"
        }
      ]
    },
    {
      "cell_type": "code",
      "metadata": {
        "id": "vNF_2Fq7EfbI",
        "colab_type": "code",
        "colab": {}
      },
      "source": [
        ""
      ],
      "execution_count": 0,
      "outputs": []
    }
  ]
}