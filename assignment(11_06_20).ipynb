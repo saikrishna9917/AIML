{
  "nbformat": 4,
  "nbformat_minor": 0,
  "metadata": {
    "kernelspec": {
      "display_name": "Python 3",
      "language": "python",
      "name": "python3"
    },
    "language_info": {
      "codemirror_mode": {
        "name": "ipython",
        "version": 3
      },
      "file_extension": ".py",
      "mimetype": "text/x-python",
      "name": "python",
      "nbconvert_exporter": "python",
      "pygments_lexer": "ipython3",
      "version": "3.7.6"
    },
    "colab": {
      "name": "assignment(11-06-20).ipynb",
      "provenance": [],
      "include_colab_link": true
    }
  },
  "cells": [
    {
      "cell_type": "markdown",
      "metadata": {
        "id": "view-in-github",
        "colab_type": "text"
      },
      "source": [
        "<a href=\"https://colab.research.google.com/github/saikrishna9917/AIML/blob/master/assignment(11_06_20).ipynb\" target=\"_parent\"><img src=\"https://colab.research.google.com/assets/colab-badge.svg\" alt=\"Open In Colab\"/></a>"
      ]
    },
    {
      "cell_type": "markdown",
      "metadata": {
        "id": "edgIOpnK00LO",
        "colab_type": "text"
      },
      "source": [
        "# CSE-221710307022-Sai Krishna"
      ]
    },
    {
      "cell_type": "markdown",
      "metadata": {
        "id": "8Gk_yr0c00LU",
        "colab_type": "text"
      },
      "source": [
        "Question 1:\n",
        "    https://www.codechef.com/problems/RECNDSTR\n",
        "\n"
      ]
    },
    {
      "cell_type": "code",
      "metadata": {
        "id": "zl2dPl6m00LX",
        "colab_type": "code",
        "colab": {},
        "outputId": "eb8d1ff9-c112-4116-de50-50300b681382"
      },
      "source": [
        "def L(x):\n",
        "    return x[1:]+x[0]\n",
        "\n",
        "def R(x):///\n",
        "    return x[-1]+x[:len(x)-1]\n",
        "\n",
        "n=int(input())\n",
        "s=[input() for i in range(n)]\n",
        "for x in s:\n",
        "    print(\"YES\") if L(x)==R(x) else print(\"NO\")"
      ],
      "execution_count": 0,
      "outputs": [
        {
          "output_type": "stream",
          "text": [
            "4\n",
            "a\n",
            "ab\n",
            "abcd\n",
            "aaaaa\n",
            "YES\n",
            "YES\n",
            "NO\n",
            "YES\n"
          ],
          "name": "stdout"
        }
      ]
    },
    {
      "cell_type": "markdown",
      "metadata": {
        "id": "Fa-yNVS_00Lq",
        "colab_type": "text"
      },
      "source": [
        "Question 2:\n",
        "<br><a href=\"https://www.hackerrank.com/challenges/beautiful-days-at-the-movies/problem\">Question in hackerrank</a>"
      ]
    },
    {
      "cell_type": "code",
      "metadata": {
        "id": "Iwu5q73400Ls",
        "colab_type": "code",
        "colab": {},
        "outputId": "a3203b60-9a42-4816-bda9-b112daa9d29a"
      },
      "source": [
        "def rev(n):\n",
        "    r=0\n",
        "    while(n>0):\n",
        "        r=r*10+n%10\n",
        "        n=n//10\n",
        "    return r\n",
        "s=input().split()\n",
        "cou=0\n",
        "s=[int(i) for i in s]\n",
        "for i in range(s[0],s[1]):\n",
        "    if (abs(i-rev(i)))%s[2]==0:\n",
        "        cou+=1\n",
        "\n",
        "print(cou)"
      ],
      "execution_count": 0,
      "outputs": [
        {
          "output_type": "stream",
          "text": [
            "20 23 6\n",
            "2\n"
          ],
          "name": "stdout"
        }
      ]
    },
    {
      "cell_type": "markdown",
      "metadata": {
        "id": "sZ49pTL-00L5",
        "colab_type": "text"
      },
      "source": [
        "Question 3: <br><a href=\"https://www.hackerrank.com/challenges/birthday-cake-candles/problem\">Question in hackerrank</a>"
      ]
    },
    {
      "cell_type": "code",
      "metadata": {
        "id": "TPt6uR_600L7",
        "colab_type": "code",
        "colab": {},
        "outputId": "4d8045e7-5dcd-40ef-e856-22fd154eb3fc"
      },
      "source": [
        "n=int(input())\n",
        "ca=input().split()\n",
        "ca=[int(ca[i]) for i in range(n)]\n",
        "ma=max(ca)\n",
        "print(ca.count(ma))"
      ],
      "execution_count": 0,
      "outputs": [
        {
          "output_type": "stream",
          "text": [
            "4\n",
            "3 1 2 3\n",
            "2\n"
          ],
          "name": "stdout"
        }
      ]
    },
    {
      "cell_type": "markdown",
      "metadata": {
        "id": "Nssyxe4S00MJ",
        "colab_type": "text"
      },
      "source": [
        "Question 4:(InfyTQ)\n",
        "Consider a non-empty array inarr containing non-zero positive single digit integers separated by “,” (comma).Print a string based on the below logic:\n",
        "From all possible unique three digit number combinations with the elements of inarr\n",
        "Identify the maximum number maxnum among the three digit combinations formed.\n",
        "Print the maxnum followed by the total number of unique digit combinations formed,separating them with a “,” (comma)"
      ]
    },
    {
      "cell_type": "code",
      "metadata": {
        "id": "rtQGgcVL00ML",
        "colab_type": "code",
        "colab": {},
        "outputId": "c6b30dbd-d954-4f1a-efac-b7bc8a9e5ce5"
      },
      "source": [
        "import math as m\n",
        "n=input().split(\",\")\n",
        "n.sort()\n",
        "a=''.join(n[::-1])\n",
        "n=[int(i) for i in n]\n",
        "his=dict()\n",
        "for i in n:\n",
        "    his[i]=his.get(i,0)+1\n",
        "p=m.factorial(len(n))\n",
        "k=1\n",
        "for i in his.values():\n",
        "    k*=m.factorial(i)\n",
        "print(a+\",\"+str(p//k))"
      ],
      "execution_count": 0,
      "outputs": [
        {
          "output_type": "stream",
          "text": [
            "4,1,2,1\n",
            "4211,12\n"
          ],
          "name": "stdout"
        }
      ]
    },
    {
      "cell_type": "markdown",
      "metadata": {
        "id": "vKojinXl00MU",
        "colab_type": "text"
      },
      "source": [
        "Question 5:(InfyTQ)\n",
        "For a given positive number num,identify the palindrome formed by performing the following operations\n",
        "Add num and its reverse\n",
        "Check whether the sum is palindrome or not.If not,add the sum and its reverse and repeat the process until a palindrome is obtained.\n"
      ]
    },
    {
      "cell_type": "code",
      "metadata": {
        "id": "TXJir6_z00MY",
        "colab_type": "code",
        "colab": {},
        "outputId": "3e9c5ac3-e8a7-403b-a0cf-04fa26dad750"
      },
      "source": [
        "def rev(n):\n",
        "    r=0\n",
        "    while(n>0):\n",
        "        r=r*10+n%10\n",
        "        n=n//10\n",
        "    return r\n",
        "\n",
        "n=int(input())\n",
        "while True:\n",
        "    r=rev(n)\n",
        "    if n==r:\n",
        "        print(n)\n",
        "        break\n",
        "    else:\n",
        "        n=n+r"
      ],
      "execution_count": 0,
      "outputs": [
        {
          "output_type": "stream",
          "text": [
            "195\n",
            "9339\n"
          ],
          "name": "stdout"
        }
      ]
    },
    {
      "cell_type": "markdown",
      "metadata": {
        "id": "uwnWPCyY00Mh",
        "colab_type": "text"
      },
      "source": [
        "Question 6:<br><a href=\"https://www.codechef.com/problems/SLAEL\">Question in Codechef</a>"
      ]
    },
    {
      "cell_type": "code",
      "metadata": {
        "id": "lD-aG0Oo00Mi",
        "colab_type": "code",
        "colab": {},
        "outputId": "74cea345-685c-4432-bab6-1ee2c3ab3a10"
      },
      "source": [
        "for i in range(int(input())):\n",
        "    n,k = map(int,input().split())\n",
        "    a = list(map(int,input().split()))\n",
        "    c,x,i1,i2,b = 0,0,0,0,list()\n",
        "    for j in range(n):\n",
        "        c += 1\n",
        "        if a[j] > k :\n",
        "            x += 1\n",
        "            if x == 1 :\n",
        "                i1 = j\n",
        "            else:\n",
        "                if a[j] == a[i1]:\n",
        "                    x -= 1\n",
        "                else:i2 = j\n",
        "        if x == 2 :\n",
        "            x = 1\n",
        "            b.append(c-1)\n",
        "            c = i2-i1\n",
        "            i1 = i2\n",
        "            i2 = 0\n",
        "        if j == n-1 and b == [ ]:b.append(n)\n",
        "    print(max(b))"
      ],
      "execution_count": 0,
      "outputs": [
        {
          "output_type": "stream",
          "text": [
            "2\n",
            "5 3\n",
            "2 4 2 4 2\n",
            "5\n",
            "8 5\n",
            "9 3 5 7 8 11 17 2\n",
            "3\n"
          ],
          "name": "stdout"
        }
      ]
    },
    {
      "cell_type": "markdown",
      "metadata": {
        "id": "gfitx9_200Ms",
        "colab_type": "text"
      },
      "source": [
        "Question 7:\n",
        " \n",
        "<br>Input string : \"xyz:750,abc:265,qwerty:195\"\n",
        "<br>Output string : abc\n"
      ]
    },
    {
      "cell_type": "code",
      "metadata": {
        "id": "E1Mx9u0N00Mt",
        "colab_type": "code",
        "colab": {},
        "outputId": "8e0618ff-3960-4799-b433-6db938a1eff3"
      },
      "source": [
        "l1=input().split(',')\n",
        "l2=[i.split(':')[1] for i in l1 ]\n",
        "l3=[]\n",
        "for num in l2:\n",
        "    n=int(num)\n",
        "    rev=num[::-1]\n",
        "    while n!=int(rev):\n",
        "        n=n+int(rev)\n",
        "        rev=str(n)[::-1]\n",
        "    l3.append(n)\n",
        "print(l1[l3.index(max(l3))].split(':')[0])"
      ],
      "execution_count": 0,
      "outputs": [
        {
          "output_type": "stream",
          "text": [
            "xyz:750,abc:265,qwerty:195\n",
            "abc\n"
          ],
          "name": "stdout"
        }
      ]
    },
    {
      "cell_type": "markdown",
      "metadata": {
        "id": "6cjG6Rxr00M2",
        "colab_type": "text"
      },
      "source": [
        "Question 8:\n",
        "<br>The groups_per_user function receives a dictionary.which contains group names with the list of users.Users can belong to multiple groups.Return a dictionary with the users as keys and a list of their groups as values.\n",
        "\n",
        "Input : {\"local\":[\"admin\",\"userA\"],\"public\":[\"admin\",\"userB\"],\"administrator\":[\"admin\"]}\n",
        "Output :\n",
        " {'admin': ['local', 'public', 'administrator'],\n",
        " userA': ['local'],\n",
        " 'userB': ['public']}\n"
      ]
    },
    {
      "cell_type": "code",
      "metadata": {
        "id": "xENPqak400M3",
        "colab_type": "code",
        "colab": {},
        "outputId": "2015b018-e51c-4b0a-f75c-2a2ffdea910d"
      },
      "source": [
        "import re\n",
        "def rev(groups):\n",
        "    usergroups = {}\n",
        "    for group,users in groups.items():\n",
        "        for user in users:\n",
        "             usergroups[user] = usergroups.get(user,[]) + [group]\n",
        "\n",
        "    print(usergroups)\n",
        "\n",
        "\n",
        "dic=input()\n",
        "key=re.findall(\"\\\"(.*?)\\\":\\[\\\".*?\\\"\\]\",dic)\n",
        "val=re.findall(\"\\\".*?\\\":(\\[\\\".*?\\\"\\])\",dic)\n",
        "d=dict()\n",
        "for i in range(len(key)):\n",
        "    y=re.findall(\"\\\"(.*?)\\\"\",val[i])\n",
        "    d[key[i]]=y\n",
        "rev(d)"
      ],
      "execution_count": 0,
      "outputs": [
        {
          "output_type": "stream",
          "text": [
            "{\"local\":[\"admin\",\"userA\"],\"public\":[\"admin\",\"userB\"],\"administrator\":[\"admin\"]}\n",
            "{'admin': ['local', 'public', 'administrator'], 'userA': ['local'], 'userB': ['public']}\n"
          ],
          "name": "stdout"
        }
      ]
    },
    {
      "cell_type": "markdown",
      "metadata": {
        "id": "tTpnp2G000M_",
        "colab_type": "text"
      },
      "source": [
        "Question 9:\n",
        "<br>Input : london 40000 12,chicago 60000 20,munich 50000 15,paris 70000 5\n",
        "<br>Output : paris munich\n",
        "\n",
        "City                population      no.of hospitals\n",
        "\n",
        "London\t              40000\t     \t12\n",
        "\n",
        "Chicago \t          60000 \t\t20\n",
        "\n",
        "Munich                50000 \t\t15\n",
        "\n",
        "Paris \t\t          70000 \t\t5"
      ]
    },
    {
      "cell_type": "code",
      "metadata": {
        "id": "KAjc8dBv00NA",
        "colab_type": "code",
        "colab": {},
        "outputId": "9d7b46d4-bc0b-4ad4-9981-b68308da7962"
      },
      "source": [
        "s=input()\n",
        "s1=s.split(',')\n",
        "print(s1)\n",
        "a={}\n",
        "b={}\n",
        "al=[]\n",
        "bl=[]\n",
        "for i in s1:\n",
        "    a1=list(i.split())\n",
        "    a[a1[0]]=int(a1[1])\n",
        "    b[a1[0]]=int(a1[2])\n",
        "a1 = sorted(a.items(), key=lambda x: x[1],reverse=True)\n",
        "b1 = sorted(b.items(), key=lambda x: x[1])\n",
        "for i in a1:\n",
        "    al.append(i[0])\n",
        "for i in b1:\n",
        "    bl.append(i[0])\n",
        "for i in range(0,len(a1)):\n",
        "    if(al[i]==bl[i]):\n",
        "        print(al[i],end=\" \")"
      ],
      "execution_count": 0,
      "outputs": [
        {
          "output_type": "stream",
          "text": [
            "london 40000 12,chicago 60000 20,munich 50000 15,paris 70000 5\n",
            "['london 40000 12', 'chicago 60000 20', 'munich 50000 15', 'paris 70000 5']\n",
            "paris munich "
          ],
          "name": "stdout"
        }
      ]
    },
    {
      "cell_type": "markdown",
      "metadata": {
        "id": "uuPFiNFV00NI",
        "colab_type": "text"
      },
      "source": [
        "Question 10:\n",
        "<br>Jug Filling Problem\n",
        "<br>Problem statement: “Given two empty jugs with 3 and 5 liter capacities and a full jug with 8 liters, find a sequence of pours leaving four liters in the two largest jugs.”\n"
      ]
    },
    {
      "cell_type": "code",
      "metadata": {
        "id": "vRFVB0ZN00NJ",
        "colab_type": "code",
        "colab": {},
        "outputId": "afbb280d-68c9-40ab-c341-a2616859749f"
      },
      "source": [
        "cap = (8,5,3)\n",
        "x = cap[0]\n",
        "y = cap[1]\n",
        "z = cap[2]\n",
        "memory = {}\n",
        "answer = []\n",
        "\n",
        "def get_all_states(state):\n",
        "    a = state[0]\n",
        "    b = state[1]\n",
        "    c = state[2]\n",
        "    if(a==4 and b==4):\n",
        "        answer.append(state)\n",
        "        return True\n",
        "    if((a,b,c) in memory):\n",
        "        return False\n",
        "    memory[(a,b,c)] = 1\n",
        "    if(a>0):\n",
        "        if(a+b<=y):\n",
        "            if( get_all_states((0,a+b,c)) ):\n",
        "                answer.append(state)\n",
        "                return True\n",
        "        else:\n",
        "            if( get_all_states((a-(y-b), y, c)) ):\n",
        "                answer.append(state)\n",
        "                return True\n",
        "        if(a+c<=z):\n",
        "            if( get_all_states((0,b,a+c)) ):\n",
        "                answer.append(state)\n",
        "                return True\n",
        "        else:\n",
        "            if( get_all_states((a-(z-c), b, z)) ):\n",
        "                answer.append(state)\n",
        "                return True\n",
        "    if(b>0):\n",
        "        if(a+b<=x):\n",
        "            if( get_all_states((a+b, 0, c)) ):\n",
        "                answer.append(state)\n",
        "                return True\n",
        "        else:\n",
        "            if( get_all_states((x, b-(x-a), c)) ):\n",
        "                answer.append(state)\n",
        "                return True\n",
        "        if(b+c<=z):\n",
        "            if( get_all_states((a, 0, b+c)) ):\n",
        "                answer.append(state)\n",
        "                return True\n",
        "        else:\n",
        "            if( get_all_states((a, b-(z-c), z)) ):\n",
        "                answer.append(state)\n",
        "                return True\n",
        "    if(c>0):\n",
        "        if(a+c<=x):\n",
        "            if( get_all_states((a+c, b, 0)) ):\n",
        "                ans.append(state)\n",
        "                return True\n",
        "        else:\n",
        "            if( get_all_states((x, b, c-(x-a))) ):\n",
        "                answer.append(state)\n",
        "                return True\n",
        "        if(b+c<=y):\n",
        "            if( get_all_states((a, b+c, 0)) ):\n",
        "                answer.append(state)\n",
        "                return True\n",
        "        else:\n",
        "            if( get_all_states((a, y, c-(y-b))) ):\n",
        "                answer.append(state)\n",
        "                return True\n",
        "    return False\n",
        "\n",
        "initial_state = (8,0,0)\n",
        "get_all_states(initial_state)\n",
        "answer.reverse()\n",
        "print(answer)\n",
        "print(len(answer))"
      ],
      "execution_count": 0,
      "outputs": [
        {
          "output_type": "stream",
          "text": [
            "[(8, 0, 0), (3, 5, 0), (0, 5, 3), (5, 0, 3), (5, 3, 0), (2, 3, 3), (2, 5, 1), (7, 0, 1), (7, 1, 0), (4, 1, 3), (4, 4, 0)]\n",
            "11\n"
          ],
          "name": "stdout"
        }
      ]
    },
    {
      "cell_type": "code",
      "metadata": {
        "id": "eN_13A7H00NW",
        "colab_type": "code",
        "colab": {}
      },
      "source": [
        ""
      ],
      "execution_count": 0,
      "outputs": []
    }
  ]
}