{
  "nbformat": 4,
  "nbformat_minor": 0,
  "metadata": {
    "kernelspec": {
      "display_name": "Python 3",
      "language": "python",
      "name": "python3"
    },
    "language_info": {
      "codemirror_mode": {
        "name": "ipython",
        "version": 3
      },
      "file_extension": ".py",
      "mimetype": "text/x-python",
      "name": "python",
      "nbconvert_exporter": "python",
      "pygments_lexer": "ipython3",
      "version": "3.7.6"
    },
    "colab": {
      "name": "Assignment7(03-06-2020).ipynb",
      "provenance": [],
      "include_colab_link": true
    }
  },
  "cells": [
    {
      "cell_type": "markdown",
      "metadata": {
        "id": "view-in-github",
        "colab_type": "text"
      },
      "source": [
        "<a href=\"https://colab.research.google.com/github/saikrishna9917/AIML/blob/master/Assignment7(03_06_2020).ipynb\" target=\"_parent\"><img src=\"https://colab.research.google.com/assets/colab-badge.svg\" alt=\"Open In Colab\"/></a>"
      ]
    },
    {
      "cell_type": "code",
      "metadata": {
        "id": "nAKGvN8UWY4v",
        "colab_type": "code",
        "colab": {},
        "outputId": "7ea9f54f-f5f6-4587-a268-62a2bc6d43db"
      },
      "source": [
        "#answer1\n",
        "f=open(\"file1.txt\",\"w\")\n",
        "f.write(\"data science with ai and ml,advanced programming,python\")\n",
        "f.close()\n",
        "\n",
        "f=open(\"file1.txt\",\"r\")\n",
        "data=f.read()\n",
        "print(data)\n",
        "f.close()\n",
        "\n",
        "f=open(\"file2.txt\",\"w\")\n",
        "f.write(data[::-1])\n",
        "f.close()"
      ],
      "execution_count": 0,
      "outputs": [
        {
          "output_type": "stream",
          "text": [
            "data science with ai and ml,advanced programming,python\n"
          ],
          "name": "stdout"
        }
      ]
    },
    {
      "cell_type": "code",
      "metadata": {
        "id": "Rvt6BI3DWY5O",
        "colab_type": "code",
        "colab": {},
        "outputId": "ba8f47a5-0109-4597-fd7a-781470ecac43"
      },
      "source": [
        "#answer2\n",
        "L=[\"data science\\n\",\"advanced programming\\n\",\"python programming\\n\"]\n",
        "\n",
        "f1=open(\"myfile.txt\",\"w\")\n",
        "f1.writelines(L)\n",
        "f1.close()\n",
        "\n",
        "f1=open(\"myfile.txt\",\"r\")\n",
        "count=0\n",
        "\n",
        "print(\"contents of file with line numbers:\")\n",
        "for line in f1:\n",
        "    count+=1\n",
        "    print(\"Line{}: {}\".format(count,line.strip()))\n",
        "f1.close()"
      ],
      "execution_count": 0,
      "outputs": [
        {
          "output_type": "stream",
          "text": [
            "contents of file with line numbers:\n",
            "Line1: data science\n",
            "Line2: advanced programming\n",
            "Line3: python programming\n"
          ],
          "name": "stdout"
        }
      ]
    },
    {
      "cell_type": "code",
      "metadata": {
        "id": "vWl-fMf_WY5Z",
        "colab_type": "code",
        "colab": {},
        "outputId": "50c89ffd-7273-4219-dcd1-4c93ad9ac700"
      },
      "source": [
        "#answer 3\n",
        "def Duplicates(list1):\n",
        "    if len(list1) == len(set(list1)):\n",
        "        return False\n",
        "    else:\n",
        "        return True\n",
        "list1=[1,2,3,4,2]\n",
        "result=Duplicates(list1)\n",
        "print(result)"
      ],
      "execution_count": 0,
      "outputs": [
        {
          "output_type": "stream",
          "text": [
            "True\n"
          ],
          "name": "stdout"
        }
      ]
    },
    {
      "cell_type": "code",
      "metadata": {
        "id": "N0uu1oPYWY5h",
        "colab_type": "code",
        "colab": {},
        "outputId": "7f9fea1e-696d-4a71-f7ca-0eb00db9db03"
      },
      "source": [
        "#answer 5\n",
        "L1=[1,2,1]\n",
        "L2=[2,1,1]\n",
        "def Permutation(list1,list2):\n",
        "    if len(list1)!= len(list2):\n",
        "         return False;\n",
        "    for i in range(0, len(list1)):\n",
        "           if list1.count(list1[i]) != list2.count(list1[i]):\n",
        "                 return False\n",
        "\n",
        "def islist_permutation(list1,list2):\n",
        "      if (Permutation(list1,list2) == False):\n",
        "        return False \n",
        "      else:\n",
        "        return True\n",
        "\n",
        "print(islist_permutation(L1,L2))"
      ],
      "execution_count": 0,
      "outputs": [
        {
          "output_type": "stream",
          "text": [
            "True\n"
          ],
          "name": "stdout"
        }
      ]
    },
    {
      "cell_type": "code",
      "metadata": {
        "id": "NzqN5Nb9WY5p",
        "colab_type": "code",
        "colab": {},
        "outputId": "1317e697-31c8-4f35-d5f3-ea6862044b15"
      },
      "source": [
        "#answer 4\n",
        "import san as f\n",
        "f.fr(2,5)\n",
        "f.add(1,10,3,5)\n",
        "f.sub(2,3,1,5)\n",
        "f.mul(3,4,2,1)\n",
        "f.div(2,1,5,12)"
      ],
      "execution_count": 0,
      "outputs": [
        {
          "output_type": "stream",
          "text": [
            "fraction is: 0.4\n",
            "addition: 0.7\n",
            "subtraction: 0.4666666666666666\n",
            "multiplication: 1.5\n",
            "division: 4.8\n"
          ],
          "name": "stdout"
        }
      ]
    },
    {
      "cell_type": "code",
      "metadata": {
        "id": "Oaqexd2cWY5x",
        "colab_type": "code",
        "colab": {}
      },
      "source": [
        ""
      ],
      "execution_count": 0,
      "outputs": []
    }
  ]
}