{
  "nbformat": 4,
  "nbformat_minor": 0,
  "metadata": {
    "colab": {
      "name": "Assignment-9(05-06-2020).ipynb",
      "provenance": [],
      "authorship_tag": "ABX9TyOWJ32XKFs8fh2Yb39J9Qoy",
      "include_colab_link": true
    },
    "kernelspec": {
      "name": "python3",
      "display_name": "Python 3"
    }
  },
  "cells": [
    {
      "cell_type": "markdown",
      "metadata": {
        "id": "view-in-github",
        "colab_type": "text"
      },
      "source": [
        "<a href=\"https://colab.research.google.com/github/saikrishna9917/AIML/blob/master/Assignment_9(05_06_2020).ipynb\" target=\"_parent\"><img src=\"https://colab.research.google.com/assets/colab-badge.svg\" alt=\"Open In Colab\"/></a>"
      ]
    },
    {
      "cell_type": "markdown",
      "metadata": {
        "id": "sk1Ko4G3bklD",
        "colab_type": "text"
      },
      "source": [
        "# Write a Python program to add, subtract, multiple and divide two Pandas Series."
      ]
    },
    {
      "cell_type": "code",
      "metadata": {
        "id": "7cln35iGbMIh",
        "colab_type": "code",
        "colab": {
          "base_uri": "https://localhost:8080/",
          "height": 493
        },
        "outputId": "fef67c33-87d8-40ac-e061-d6a87dfd85ff"
      },
      "source": [
        "import pandas as pd\n",
        "ds1 = pd.Series([2, 4, 6, 8, 10])\n",
        "ds2 = pd.Series([1, 3, 5, 7, 9])\n",
        "ds = ds1 + ds2\n",
        "print(\"Add two Series:\")\n",
        "print(ds)\n",
        "print(\"Subtract two Series:\")\n",
        "ds = ds1 - ds2\n",
        "print(ds)\n",
        "print(\"Multiply two Series:\")\n",
        "ds = ds1 * ds2\n",
        "print(ds)\n",
        "print(\"Divide Series1 by Series2:\")\n",
        "ds = ds1 / ds2\n",
        "print(ds)"
      ],
      "execution_count": 1,
      "outputs": [
        {
          "output_type": "stream",
          "text": [
            "Add two Series:\n",
            "0     3\n",
            "1     7\n",
            "2    11\n",
            "3    15\n",
            "4    19\n",
            "dtype: int64\n",
            "Subtract two Series:\n",
            "0    1\n",
            "1    1\n",
            "2    1\n",
            "3    1\n",
            "4    1\n",
            "dtype: int64\n",
            "Multiply two Series:\n",
            "0     2\n",
            "1    12\n",
            "2    30\n",
            "3    56\n",
            "4    90\n",
            "dtype: int64\n",
            "Divide Series1 by Series2:\n",
            "0    2.000000\n",
            "1    1.333333\n",
            "2    1.200000\n",
            "3    1.142857\n",
            "4    1.111111\n",
            "dtype: float64\n"
          ],
          "name": "stdout"
        }
      ]
    },
    {
      "cell_type": "markdown",
      "metadata": {
        "id": "aP6AZhwJb1Hd",
        "colab_type": "text"
      },
      "source": [
        "# Write a Pandas program to compute the minimum, 25th percentile, median, 75th, and maximum of a given series. \n"
      ]
    },
    {
      "cell_type": "code",
      "metadata": {
        "id": "z0EJAhn7brZb",
        "colab_type": "code",
        "colab": {
          "base_uri": "https://localhost:8080/",
          "height": 442
        },
        "outputId": "6080728c-a4b7-40de-9add-f92950ff71d7"
      },
      "source": [
        "import pandas as pd\n",
        "import numpy as np\n",
        "num_state = np.random.RandomState(100)\n",
        "num_series = pd.Series(num_state.normal(10, 4, 20))\n",
        "print(\"Original Series:\")\n",
        "print(num_series)\n",
        "result = np.percentile(num_series, q=[0, 25, 50, 75, 100])\n",
        "print(\"\\nMinimum, 25th percentile, median, 75th, and maximum of a given series:\")\n",
        "print(result)"
      ],
      "execution_count": 2,
      "outputs": [
        {
          "output_type": "stream",
          "text": [
            "Original Series:\n",
            "0      3.000938\n",
            "1     11.370722\n",
            "2     14.612143\n",
            "3      8.990256\n",
            "4     13.925283\n",
            "5     12.056875\n",
            "6     10.884719\n",
            "7      5.719827\n",
            "8      9.242017\n",
            "9     11.020006\n",
            "10     8.167892\n",
            "11    11.740654\n",
            "12     7.665620\n",
            "13    13.267388\n",
            "14    12.690883\n",
            "15     9.582355\n",
            "16     7.874878\n",
            "17    14.118931\n",
            "18     8.247458\n",
            "19     5.526727\n",
            "dtype: float64\n",
            "\n",
            "Minimum, 25th percentile, median, 75th, and maximum of a given series:\n",
            "[ 3.00093811  8.09463867 10.23353705 12.21537733 14.61214321]\n"
          ],
          "name": "stdout"
        }
      ]
    },
    {
      "cell_type": "markdown",
      "metadata": {
        "id": "A-WNIwC-b8wf",
        "colab_type": "text"
      },
      "source": [
        "# Write a Pandas program to get the items of a given series not present in another given series. \n"
      ]
    },
    {
      "cell_type": "code",
      "metadata": {
        "id": "VeFpgBVgb6uA",
        "colab_type": "code",
        "colab": {
          "base_uri": "https://localhost:8080/",
          "height": 374
        },
        "outputId": "58fcc1e5-8724-4805-d0a8-7f144c9bc722"
      },
      "source": [
        "import pandas as pd\n",
        "sr1 = pd.Series([1, 2, 3, 4, 5])\n",
        "sr2 = pd.Series([2, 4, 6, 8, 10])\n",
        "print(\"Original Series:\")\n",
        "print(\"sr1:\")\n",
        "print(sr1)\n",
        "print(\"sr2:\")\n",
        "print(sr2)\n",
        "print(\"\\nItems of sr1 not present in sr2:\")\n",
        "result = sr1[~sr1.isin(sr2)]\n",
        "print(result)"
      ],
      "execution_count": 3,
      "outputs": [
        {
          "output_type": "stream",
          "text": [
            "Original Series:\n",
            "sr1:\n",
            "0    1\n",
            "1    2\n",
            "2    3\n",
            "3    4\n",
            "4    5\n",
            "dtype: int64\n",
            "sr2:\n",
            "0     2\n",
            "1     4\n",
            "2     6\n",
            "3     8\n",
            "4    10\n",
            "dtype: int64\n",
            "\n",
            "Items of sr1 not present in sr2:\n",
            "0    1\n",
            "2    3\n",
            "4    5\n",
            "dtype: int64\n"
          ],
          "name": "stdout"
        }
      ]
    },
    {
      "cell_type": "markdown",
      "metadata": {
        "id": "5FzE3Y-icFHc",
        "colab_type": "text"
      },
      "source": [
        "## Write a Pandas program to filter words from a given series that contain at least two vowels."
      ]
    },
    {
      "cell_type": "code",
      "metadata": {
        "id": "Zv_He4yscDpk",
        "colab_type": "code",
        "colab": {
          "base_uri": "https://localhost:8080/",
          "height": 272
        },
        "outputId": "3c6be1e6-d58b-47e3-88b4-f6a5e31fa3ef"
      },
      "source": [
        "import pandas as pd\n",
        "from collections import Counter\n",
        "color_series = pd.Series(['Red', 'Green', 'Orange', 'Pink', 'Yellow', 'White'])\n",
        "print(\"Original Series:\")\n",
        "print(color_series)\n",
        "print(\"\\nFiltered words:\")\n",
        "result = mask = color_series.map(lambda c: sum([Counter(c.lower()).get(i, 0) for i in list('aeiou')]) >= 2)\n",
        "print(color_series[result])"
      ],
      "execution_count": 4,
      "outputs": [
        {
          "output_type": "stream",
          "text": [
            "Original Series:\n",
            "0       Red\n",
            "1     Green\n",
            "2    Orange\n",
            "3      Pink\n",
            "4    Yellow\n",
            "5     White\n",
            "dtype: object\n",
            "\n",
            "Filtered words:\n",
            "1     Green\n",
            "2    Orange\n",
            "4    Yellow\n",
            "5     White\n",
            "dtype: object\n"
          ],
          "name": "stdout"
        }
      ]
    },
    {
      "cell_type": "markdown",
      "metadata": {
        "id": "6ZCrisezcOHf",
        "colab_type": "text"
      },
      "source": [
        "# Consider the following as my DataFrame,Write a Pandas program to select the rows where the number of attempts in the examination is greater than 2.\n"
      ]
    },
    {
      "cell_type": "code",
      "metadata": {
        "id": "HDqTMtlkcM1n",
        "colab_type": "code",
        "colab": {
          "base_uri": "https://localhost:8080/",
          "height": 102
        },
        "outputId": "6e6fb4b3-0539-49b0-dd52-62da750e3749"
      },
      "source": [
        "import pandas as pd\n",
        "import numpy as np\n",
        "exam_data  = {'name': ['Anastasia', 'Dima', 'Katherine', 'James', 'Emily', 'Michael', 'Matthew', 'Laura', 'Kevin', 'Jonas'],\n",
        "        'score': [12.5, 9, 16.5, np.nan, 9, 20, 14.5, np.nan, 8, 19],\n",
        "        'attempts': [1, 3, 2, 3, 2, 3, 1, 1, 2, 1],\n",
        "        'qualify': ['yes', 'no', 'yes', 'no', 'no', 'yes', 'yes', 'no', 'no', 'yes']}\n",
        "labels = ['a', 'b', 'c', 'd', 'e', 'f', 'g', 'h', 'i', 'j']\n",
        "df = pd.DataFrame(exam_data , index=labels)\n",
        "print(\"Number of attempts in the examination is greater than 2 :\")\n",
        "print(df[(df['attempts'] > 2)])"
      ],
      "execution_count": 5,
      "outputs": [
        {
          "output_type": "stream",
          "text": [
            "Number of attempts in the examination is greater than 2 :\n",
            "      name  score  attempts qualify\n",
            "b     Dima    9.0         3      no\n",
            "d    James    NaN         3      no\n",
            "f  Michael   20.0         3     yes\n"
          ],
          "name": "stdout"
        }
      ]
    },
    {
      "cell_type": "code",
      "metadata": {
        "id": "9eyYc04rcaa6",
        "colab_type": "code",
        "colab": {}
      },
      "source": [
        ""
      ],
      "execution_count": 0,
      "outputs": []
    }
  ]
}