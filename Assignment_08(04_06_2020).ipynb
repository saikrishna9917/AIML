{
  "nbformat": 4,
  "nbformat_minor": 0,
  "metadata": {
    "colab": {
      "name": "Assignment-08(04-06-2020).ipynb",
      "provenance": [],
      "authorship_tag": "ABX9TyPyQ8GMExjYuC7+b1h3/Kei",
      "include_colab_link": true
    },
    "kernelspec": {
      "name": "python3",
      "display_name": "Python 3"
    }
  },
  "cells": [
    {
      "cell_type": "markdown",
      "metadata": {
        "id": "view-in-github",
        "colab_type": "text"
      },
      "source": [
        "<a href=\"https://colab.research.google.com/github/saikrishna9917/AIML/blob/master/Assignment_08(04_06_2020).ipynb\" target=\"_parent\"><img src=\"https://colab.research.google.com/assets/colab-badge.svg\" alt=\"Open In Colab\"/></a>"
      ]
    },
    {
      "cell_type": "markdown",
      "metadata": {
        "id": "f8I2sGl2VDDj",
        "colab_type": "text"
      },
      "source": [
        "# Write a NumPy program to reverse an array (first element becomes last). \n",
        "Original array:\n",
        "[12 13 14 15 16 17 18 19 20 21 22 23 24 25 26 27 28 29 30 31 32 33 34 35 36 37]\n",
        "\n",
        "Reverse array:\n",
        "[37 36 35 34 33 32 31 30 29 28 27 26 25 24 23 22 21 20 19 18 17 16 15 14 13 12]\n"
      ]
    },
    {
      "cell_type": "code",
      "metadata": {
        "id": "vKfK7jG2U9hS",
        "colab_type": "code",
        "outputId": "68e93541-e5ec-45fa-8c91-7a25f1759266",
        "colab": {
          "base_uri": "https://localhost:8080/",
          "height": 119
        }
      },
      "source": [
        "import numpy as np\n",
        "x = np.arange(12, 38)\n",
        "print(\"Original array:\")\n",
        "print(x)\n",
        "print(\"Reverse array:\")\n",
        "x = x[::-1]\n",
        "print(x)"
      ],
      "execution_count": 0,
      "outputs": [
        {
          "output_type": "stream",
          "text": [
            "Original array:\n",
            "[12 13 14 15 16 17 18 19 20 21 22 23 24 25 26 27 28 29 30 31 32 33 34 35\n",
            " 36 37]\n",
            "Reverse array:\n",
            "[37 36 35 34 33 32 31 30 29 28 27 26 25 24 23 22 21 20 19 18 17 16 15 14\n",
            " 13 12]\n"
          ],
          "name": "stdout"
        }
      ]
    },
    {
      "cell_type": "markdown",
      "metadata": {
        "id": "J6z2iwujVPvX",
        "colab_type": "text"
      },
      "source": [
        "### Write a NumPy program to create a 2d array with 1 on the border and 0 inside. \n",
        "Original array:\n",
        "[[ 1. 1. 1. 1. 1.]\n",
        "\n",
        "...................\n",
        "\n",
        "[ 1. 1. 1. 1. 1.]]\n",
        "\n",
        "1 on the border and 0 inside in the array\n",
        "\n",
        "Expected output:\n",
        "\n",
        "[[ 1. 1. 1. 1. 1.]\n",
        "\n",
        " [1. 0. 0. 0. 1.]\n",
        "\n",
        "……………..\n",
        "\n",
        " [1. 0. 0. 0. 1.]\n",
        "\n",
        "[ 1. 1. 1. 1. 1.]]\n"
      ]
    },
    {
      "cell_type": "code",
      "metadata": {
        "id": "QX4J3jnYVK1j",
        "colab_type": "code",
        "outputId": "b51f3585-77af-4067-b7a0-2ab310068149",
        "colab": {
          "base_uri": "https://localhost:8080/",
          "height": 221
        }
      },
      "source": [
        "import numpy as np\n",
        "x = np.ones((5,5))\n",
        "print(\"Original array:\")\n",
        "print(x)\n",
        "print(\"1 on the border and 0 inside in the array\")\n",
        "x[1:-1,1:-1] = 0\n",
        "print(x)"
      ],
      "execution_count": 0,
      "outputs": [
        {
          "output_type": "stream",
          "text": [
            "Original array:\n",
            "[[1. 1. 1. 1. 1.]\n",
            " [1. 1. 1. 1. 1.]\n",
            " [1. 1. 1. 1. 1.]\n",
            " [1. 1. 1. 1. 1.]\n",
            " [1. 1. 1. 1. 1.]]\n",
            "1 on the border and 0 inside in the array\n",
            "[[1. 1. 1. 1. 1.]\n",
            " [1. 0. 0. 0. 1.]\n",
            " [1. 0. 0. 0. 1.]\n",
            " [1. 0. 0. 0. 1.]\n",
            " [1. 1. 1. 1. 1.]]\n"
          ],
          "name": "stdout"
        }
      ]
    },
    {
      "cell_type": "markdown",
      "metadata": {
        "id": "nOmmsBfpVgLk",
        "colab_type": "text"
      },
      "source": [
        "## Write a NumPy program to test whether each element of a 1-D array is also present in a second array.\n",
        "Expected Output:\n",
        "\n",
        "Array1: [ 0 10 20 40 60]\n",
        "\n",
        "Array2: [0, 40]\n",
        "\n",
        "Compare each element of array1 and array2\n",
        "\n",
        "[ True False False True False]\n"
      ]
    },
    {
      "cell_type": "code",
      "metadata": {
        "id": "JUHyR1E6Ve5k",
        "colab_type": "code",
        "outputId": "06890639-0ec2-4017-c7c1-09f432fb487d",
        "colab": {
          "base_uri": "https://localhost:8080/",
          "height": 85
        }
      },
      "source": [
        "import numpy as np\n",
        "array1 = np.array([0, 10, 20, 40, 60])\n",
        "print(\"Array1: \",array1)\n",
        "array2 = [0, 40]\n",
        "print(\"Array2: \",array2)\n",
        "print(\"Compare each element of array1 and array2\")\n",
        "print(np.in1d(array1, array2))"
      ],
      "execution_count": 0,
      "outputs": [
        {
          "output_type": "stream",
          "text": [
            "Array1:  [ 0 10 20 40 60]\n",
            "Array2:  [0, 40]\n",
            "Compare each element of array1 and array2\n",
            "[ True False False  True False]\n"
          ],
          "name": "stdout"
        }
      ]
    },
    {
      "cell_type": "markdown",
      "metadata": {
        "id": "7h3XBG3uVvlH",
        "colab_type": "text"
      },
      "source": [
        "## Write a NumPy program to find the set difference of two arrays. The set difference will return the sorted, unique values in array1 that are not in array2.\n",
        "Expected Output:\n",
        "\n",
        "Array1: [ 0 10 20 40 60 80]\n",
        "\n",
        "Array2: [10, 30, 40, 50, 70, 90]\n",
        "\n",
        "Set difference between two arrays:\n",
        "\n",
        "[ 0 20 60 80]\n"
      ]
    },
    {
      "cell_type": "code",
      "metadata": {
        "id": "qWsdhPkCVtsC",
        "colab_type": "code",
        "outputId": "b1bc1512-7408-4b7d-eb16-4a13f4a11494",
        "colab": {
          "base_uri": "https://localhost:8080/",
          "height": 85
        }
      },
      "source": [
        "import numpy as np\n",
        "array1 = np.array([0, 10, 20, 40, 60, 80])\n",
        "print(\"Array1: \",array1)\n",
        "array2 = [10, 30, 40, 50, 70]\n",
        "print(\"Array2: \",array2)\n",
        "print(\"Unique values in array1 that are not in array2:\")\n",
        "print(np.setdiff1d(array1, array2))"
      ],
      "execution_count": 0,
      "outputs": [
        {
          "output_type": "stream",
          "text": [
            "Array1:  [ 0 10 20 40 60 80]\n",
            "Array2:  [10, 30, 40, 50, 70]\n",
            "Unique values in array1 that are not in array2:\n",
            "[ 0 20 60 80]\n"
          ],
          "name": "stdout"
        }
      ]
    },
    {
      "cell_type": "markdown",
      "metadata": {
        "id": "w91D5DoqV7ZB",
        "colab_type": "text"
      },
      "source": [
        "## Write a NumPy program to create a 2-D array whose diagonal equals [4, 5, 6, 8] and 0's elsewhere.\n",
        "Expected Output:\n",
        "\n",
        "[[4 0 0 0]\n",
        "\n",
        "[0 5 0 0]\n",
        "\n",
        "[0 0 6 0]\n",
        "\n",
        "[0 0 0 8]]\n"
      ]
    },
    {
      "cell_type": "code",
      "metadata": {
        "id": "dZfR64pDV52C",
        "colab_type": "code",
        "outputId": "781cf9ec-4b24-4253-b732-2b68aefca617",
        "colab": {
          "base_uri": "https://localhost:8080/",
          "height": 85
        }
      },
      "source": [
        "import numpy as np\n",
        "x =  np.diagflat([4, 5, 6, 8])\n",
        "print(x)"
      ],
      "execution_count": 0,
      "outputs": [
        {
          "output_type": "stream",
          "text": [
            "[[4 0 0 0]\n",
            " [0 5 0 0]\n",
            " [0 0 6 0]\n",
            " [0 0 0 8]]\n"
          ],
          "name": "stdout"
        }
      ]
    },
    {
      "cell_type": "code",
      "metadata": {
        "id": "0mmGh_1cWEfF",
        "colab_type": "code",
        "colab": {}
      },
      "source": [
        ""
      ],
      "execution_count": 0,
      "outputs": []
    }
  ]
}