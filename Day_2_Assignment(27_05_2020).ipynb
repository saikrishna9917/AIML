{
  "nbformat": 4,
  "nbformat_minor": 0,
  "metadata": {
    "colab": {
      "name": "Day 2 Assignment(27-05-2020).ipynb",
      "provenance": [],
      "authorship_tag": "ABX9TyNm1fOQkI2XSZQzeNKPldhb",
      "include_colab_link": true
    },
    "kernelspec": {
      "name": "python3",
      "display_name": "Python 3"
    }
  },
  "cells": [
    {
      "cell_type": "markdown",
      "metadata": {
        "id": "view-in-github",
        "colab_type": "text"
      },
      "source": [
        "<a href=\"https://colab.research.google.com/github/saikrishna9917/AIML/blob/master/Day_2_Assignment(27_05_2020).ipynb\" target=\"_parent\"><img src=\"https://colab.research.google.com/assets/colab-badge.svg\" alt=\"Open In Colab\"/></a>"
      ]
    },
    {
      "cell_type": "markdown",
      "metadata": {
        "id": "ArQ_oI2yrcWo",
        "colab_type": "text"
      },
      "source": [
        "##Pattern Program"
      ]
    },
    {
      "cell_type": "code",
      "metadata": {
        "id": "QVUOfvlU3wRj",
        "colab_type": "code",
        "outputId": "92d48fed-bb27-4ca1-e2fa-f6f180ed2d9d",
        "colab": {
          "base_uri": "https://localhost:8080/",
          "height": 119
        }
      },
      "source": [
        "rows=int(input(\"enter number of rows\"))\n",
        "for i in range(0,rows):\n",
        "    for j in range(0, i + 1):\n",
        "        print(\"*\", end=' ')\n",
        "\n",
        "\n",
        "    print(\"\\r\")"
      ],
      "execution_count": 0,
      "outputs": [
        {
          "output_type": "stream",
          "text": [
            "enter number of rows5\n",
            "* \n",
            "* * \n",
            "* * * \n",
            "* * * * \n",
            "* * * * * \n"
          ],
          "name": "stdout"
        }
      ]
    },
    {
      "cell_type": "markdown",
      "metadata": {
        "id": "2OKIYU625EIG",
        "colab_type": "text"
      },
      "source": [
        "# Multiplication table of k"
      ]
    },
    {
      "cell_type": "code",
      "metadata": {
        "id": "ZLjJDiDN41ss",
        "colab_type": "code",
        "outputId": "9f9caf30-3982-4535-cc6f-96cf76cbf544",
        "colab": {
          "base_uri": "https://localhost:8080/",
          "height": 204
        }
      },
      "source": [
        "num=int(input(\"enter the number\"))\n",
        "for i in range(1,11):\n",
        "    print(num, 'x', i, '=', num*i)"
      ],
      "execution_count": 0,
      "outputs": [
        {
          "output_type": "stream",
          "text": [
            "enter the number7\n",
            "7 x 1 = 7\n",
            "7 x 2 = 14\n",
            "7 x 3 = 21\n",
            "7 x 4 = 28\n",
            "7 x 5 = 35\n",
            "7 x 6 = 42\n",
            "7 x 7 = 49\n",
            "7 x 8 = 56\n",
            "7 x 9 = 63\n",
            "7 x 10 = 70\n"
          ],
          "name": "stdout"
        }
      ]
    },
    {
      "cell_type": "markdown",
      "metadata": {
        "id": "w1pnLa6Y5-nW",
        "colab_type": "text"
      },
      "source": [
        "# Roots of quadratic equation"
      ]
    },
    {
      "cell_type": "code",
      "metadata": {
        "id": "zaf1No2y5v2c",
        "colab_type": "code",
        "outputId": "0978dc78-4093-4ca9-d212-c7d3acdeabcf",
        "colab": {
          "base_uri": "https://localhost:8080/",
          "height": 85
        }
      },
      "source": [
        "import cmath\n",
        "a=int(input(\"enter the a value\"))\n",
        "b=int(input(\"enter the b value\"))\n",
        "c=int(input(\"enter the c value\"))\n",
        "d=(b**2) - (4*a*c)\n",
        "sol1=(-b-cmath.sqrt(d))/(2*a)\n",
        "sol2=(-b+cmath.sqrt(d))/(2*a)\n",
        "print('the solution are{0} and {1}'.format(sol1,sol2))"
      ],
      "execution_count": 0,
      "outputs": [
        {
          "output_type": "stream",
          "text": [
            "enter the a value1\n",
            "enter the b value5\n",
            "enter the c value6\n",
            "the solution are(-3+0j) and (-2+0j)\n"
          ],
          "name": "stdout"
        }
      ]
    },
    {
      "cell_type": "markdown",
      "metadata": {
        "id": "YX4mXx907jdh",
        "colab_type": "text"
      },
      "source": [
        "# Conversion of decimal to binary"
      ]
    },
    {
      "cell_type": "code",
      "metadata": {
        "id": "zvcg9ViE6Gev",
        "colab_type": "code",
        "outputId": "2340e3c3-f5f6-40c1-aa3f-aa669c1e30ba",
        "colab": {
          "base_uri": "https://localhost:8080/",
          "height": 51
        }
      },
      "source": [
        "def convertToBinary(n):\n",
        "    if n > 1:\n",
        "       convertToBinary(n//2)\n",
        "    print(n % 2,end= '')\n",
        "dec = int(input(\"enter the decimal number\"))\n",
        "convertToBinary(dec)\n",
        "print()"
      ],
      "execution_count": 0,
      "outputs": [
        {
          "output_type": "stream",
          "text": [
            "enter the decimal number5\n",
            "101\n"
          ],
          "name": "stdout"
        }
      ]
    },
    {
      "cell_type": "markdown",
      "metadata": {
        "id": "7zim5aH991mj",
        "colab_type": "text"
      },
      "source": [
        "# Fibonacci series"
      ]
    },
    {
      "cell_type": "code",
      "metadata": {
        "id": "LWqja1V08Gv_",
        "colab_type": "code",
        "outputId": "04cd612d-3b10-4810-fc6a-66c69aa0d439",
        "colab": {
          "base_uri": "https://localhost:8080/",
          "height": 102
        }
      },
      "source": [
        "n=int(input(\"enter number of terms\"))\n",
        "i=1\n",
        "t1=0\n",
        "t2=1\n",
        "while(i<n):\n",
        "    print(t1)\n",
        "    next=t1+t2\n",
        "    t1=t2\n",
        "    t2=next\n",
        "    i=i+1"
      ],
      "execution_count": 0,
      "outputs": [
        {
          "output_type": "stream",
          "text": [
            "enter number of terms5\n",
            "0\n",
            "1\n",
            "1\n",
            "2\n"
          ],
          "name": "stdout"
        }
      ]
    },
    {
      "cell_type": "code",
      "metadata": {
        "id": "QIRgqzW4-Loa",
        "colab_type": "code",
        "colab": {}
      },
      "source": [
        ""
      ],
      "execution_count": 0,
      "outputs": []
    }
  ]
}